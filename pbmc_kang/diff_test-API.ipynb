{
 "cells": [
  {
   "cell_type": "code",
   "execution_count": 1,
   "id": "collectible-independence",
   "metadata": {},
   "outputs": [],
   "source": [
    "import scanpy as sc\n",
    "import scarches as sca\n",
    "import numpy as np"
   ]
  },
  {
   "cell_type": "markdown",
   "id": "fundamental-instruction",
   "metadata": {},
   "source": [
    "### Pbmc Kang"
   ]
  },
  {
   "cell_type": "code",
   "execution_count": 2,
   "id": "turkish-arthur",
   "metadata": {},
   "outputs": [],
   "source": [
    "adata = sc.read('kang_pbmc.h5ad')"
   ]
  },
  {
   "cell_type": "code",
   "execution_count": 3,
   "id": "characteristic-gasoline",
   "metadata": {},
   "outputs": [
    {
     "name": "stderr",
     "output_type": "stream",
     "text": [
      "<ipython-input-3-7451970088de>:2: SettingWithCopyWarning: \n",
      "A value is trying to be set on a copy of a slice from a DataFrame\n",
      "\n",
      "See the caveats in the documentation: https://pandas.pydata.org/pandas-docs/stable/user_guide/indexing.html#returning-a-view-versus-a-copy\n",
      "  adata.obs['condition_joint'][adata.obs['condition_joint']=='nan'] = 'control'\n",
      "... storing 'condition_joint' as categorical\n"
     ]
    }
   ],
   "source": [
    "adata.obs['condition_joint'] = adata.obs['condition'].tolist()\n",
    "adata.obs['condition_joint'][adata.obs['condition_joint']=='nan'] = 'control'\n",
    "adata.strings_to_categoricals()"
   ]
  },
  {
   "cell_type": "code",
   "execution_count": 4,
   "id": "julian-logic",
   "metadata": {},
   "outputs": [
    {
     "name": "stdout",
     "output_type": "stream",
     "text": [
      "\n",
      "INITIALIZING NEW NETWORK..............\n",
      "Encoder Architecture:\n",
      "\tInput Layer in, out and cond: 1972 1000 5\n",
      "\tHidden Layer 1 in/out: 1000 600\n",
      "\tHidden Layer 2 in/out: 600 600\n",
      "\tMean/Var Layer in/out: 600 282\n",
      "Decoder Architecture:\n",
      "\tMasked linear layer in, out and cond:  282 1972 5\n"
     ]
    }
   ],
   "source": [
    "intr_cvae = sca.models.TRVAE.load('q_intr_cvae_nb_alpha_kl_0_001_sd_2021', adata)"
   ]
  },
  {
   "cell_type": "code",
   "execution_count": null,
   "id": "composed-cleaner",
   "metadata": {},
   "outputs": [],
   "source": []
  },
  {
   "cell_type": "code",
   "execution_count": 5,
   "id": "precise-authority",
   "metadata": {},
   "outputs": [],
   "source": [
    "scores = intr_cvae.latent_enrich('condition_joint', comparison=\"control\", adata=adata)"
   ]
  },
  {
   "cell_type": "code",
   "execution_count": 6,
   "id": "fifty-bradford",
   "metadata": {},
   "outputs": [
    {
     "name": "stdout",
     "output_type": "stream",
     "text": [
      "stimulated\n",
      "['INTERFERON_SIGNALING' 'INTERFERON_ALPHA_BETA_SIGNALIN']\n",
      "[-5.11  3.15]\n"
     ]
    }
   ],
   "source": [
    "for k in scores:\n",
    "    print(k)\n",
    "    mask = np.abs(scores[k]['bf'])> 3 # bayes vactor value to filter, can use 2.3 or even lower\n",
    "    s = sum(mask)\n",
    "    sort = np.argsort(np.abs(scores[k]['bf'])[mask])[::-1]\n",
    "    if s > 0:\n",
    "        print(adata.uns['terms'][mask][sort])\n",
    "        print(scores[k]['bf'][mask][sort])"
   ]
  },
  {
   "cell_type": "code",
   "execution_count": 7,
   "id": "straight-binding",
   "metadata": {},
   "outputs": [],
   "source": [
    "b_mask = adata.obs['cell_type_joint'] == 'B'\n",
    "b_names = adata[b_mask].obs_names.tolist()\n",
    "others_names = adata[~b_mask].obs_names.tolist()\n",
    "\n",
    "scores = intr_cvae.latent_enrich(dict(B=b_names, Others=others_names), adata=adata)"
   ]
  },
  {
   "cell_type": "code",
   "execution_count": 8,
   "id": "smart-integration",
   "metadata": {},
   "outputs": [
    {
     "name": "stdout",
     "output_type": "stream",
     "text": [
      "B\n",
      "['MHC_CLASS_II_ANTIGEN_PRESENTAT' 'SIGNALING_BY_THE_B_CELL_RECEPT']\n",
      "[-4.6  -3.46]\n",
      "Others\n",
      "['MHC_CLASS_II_ANTIGEN_PRESENTAT' 'SIGNALING_BY_THE_B_CELL_RECEPT']\n",
      "[4.66 3.6 ]\n"
     ]
    }
   ],
   "source": [
    "for k in scores:\n",
    "    print(k)\n",
    "    mask = np.abs(scores[k]['bf'])> 3 # bayes vactor value to filter, can use 2.3 or even lower\n",
    "    s = sum(mask)\n",
    "    sort = np.argsort(np.abs(scores[k]['bf'])[mask])[::-1]\n",
    "    if s > 0:\n",
    "        print(adata.uns['terms'][mask][sort])\n",
    "        print(scores[k]['bf'][mask][sort])"
   ]
  },
  {
   "cell_type": "code",
   "execution_count": null,
   "id": "mechanical-third",
   "metadata": {},
   "outputs": [],
   "source": []
  },
  {
   "cell_type": "code",
   "execution_count": 9,
   "id": "commercial-victor",
   "metadata": {},
   "outputs": [],
   "source": [
    "directions = intr_cvae._latent_directions(method=\"sum\")\n",
    "scores = intr_cvae.latent_enrich('condition_joint', comparison=\"control\", directions=directions, adata=adata)"
   ]
  },
  {
   "cell_type": "code",
   "execution_count": 10,
   "id": "genuine-literature",
   "metadata": {},
   "outputs": [
    {
     "name": "stdout",
     "output_type": "stream",
     "text": [
      "stimulated\n",
      "['INTERFERON_SIGNALING' 'INTERFERON_ALPHA_BETA_SIGNALIN']\n",
      "[5.29 3.2 ]\n"
     ]
    }
   ],
   "source": [
    "for k in scores:\n",
    "    print(k)\n",
    "    mask = np.abs(scores[k]['bf'])> 3 # bayes vactor value to filter, can use 2.3 or even lower\n",
    "    s = sum(mask)\n",
    "    sort = np.argsort(np.abs(scores[k]['bf'])[mask])[::-1]\n",
    "    if s > 0:\n",
    "        print(adata.uns['terms'][mask][sort])\n",
    "        print(scores[k]['bf'][mask][sort])"
   ]
  },
  {
   "cell_type": "code",
   "execution_count": null,
   "id": "forbidden-hours",
   "metadata": {},
   "outputs": [],
   "source": []
  }
 ],
 "metadata": {
  "kernelspec": {
   "display_name": "Python 3",
   "language": "python",
   "name": "python3"
  },
  "language_info": {
   "codemirror_mode": {
    "name": "ipython",
    "version": 3
   },
   "file_extension": ".py",
   "mimetype": "text/x-python",
   "name": "python",
   "nbconvert_exporter": "python",
   "pygments_lexer": "ipython3",
   "version": "3.8.8"
  }
 },
 "nbformat": 4,
 "nbformat_minor": 5
}
