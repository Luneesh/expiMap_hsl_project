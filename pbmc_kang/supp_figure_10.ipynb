{
 "cells": [
  {
   "cell_type": "code",
   "execution_count": 1,
   "id": "damaged-closer",
   "metadata": {},
   "outputs": [],
   "source": [
    "import pandas as pd"
   ]
  },
  {
   "cell_type": "code",
   "execution_count": 2,
   "id": "internal-election",
   "metadata": {},
   "outputs": [],
   "source": [
    "import matplotlib.pyplot as plt\n",
    "import matplotlib\n",
    "import seaborn as sb\n",
    "\n",
    "font = {'family' : 'Arial',\n",
    "        'size'   : 14}\n",
    "\n",
    "matplotlib.rc('font', **font)\n",
    "matplotlib.rc('ytick', labelsize=14)\n",
    "matplotlib.rc('xtick', labelsize=14)\n",
    "matplotlib.rcParams[\"figure.dpi\"] = 140"
   ]
  },
  {
   "cell_type": "code",
   "execution_count": 3,
   "id": "hawaiian-battlefield",
   "metadata": {},
   "outputs": [],
   "source": [
    "df = pd.read_csv('gene_recovery_kang_ref_soft_False.csv', index_col = 0)"
   ]
  },
  {
   "cell_type": "code",
   "execution_count": 4,
   "id": "sexual-pakistan",
   "metadata": {},
   "outputs": [
    {
     "data": {
      "text/html": [
       "<div>\n",
       "<style scoped>\n",
       "    .dataframe tbody tr th:only-of-type {\n",
       "        vertical-align: middle;\n",
       "    }\n",
       "\n",
       "    .dataframe tbody tr th {\n",
       "        vertical-align: top;\n",
       "    }\n",
       "\n",
       "    .dataframe thead th {\n",
       "        text-align: right;\n",
       "    }\n",
       "</style>\n",
       "<table border=\"1\" class=\"dataframe\">\n",
       "  <thead>\n",
       "    <tr style=\"text-align: right;\">\n",
       "      <th></th>\n",
       "      <th>al1_0.4_recov_top20</th>\n",
       "      <th>al1_0.4_in_ifn_top20</th>\n",
       "      <th>al1_0.4_recov_top30</th>\n",
       "      <th>al1_0.4_in_ifn_top30</th>\n",
       "      <th>al1_0.4_recov_top50</th>\n",
       "      <th>al1_0.4_in_ifn_top50</th>\n",
       "      <th>al1_0.4_top_term</th>\n",
       "      <th>al1_0.4_ifn_bf</th>\n",
       "      <th>al1_0.3_recov_top20</th>\n",
       "      <th>al1_0.3_in_ifn_top20</th>\n",
       "      <th>...</th>\n",
       "      <th>al1_0.1_top_term</th>\n",
       "      <th>al1_0.1_ifn_bf</th>\n",
       "      <th>al1_0.06_recov_top20</th>\n",
       "      <th>al1_0.06_in_ifn_top20</th>\n",
       "      <th>al1_0.06_recov_top30</th>\n",
       "      <th>al1_0.06_in_ifn_top30</th>\n",
       "      <th>al1_0.06_recov_top50</th>\n",
       "      <th>al1_0.06_in_ifn_top50</th>\n",
       "      <th>al1_0.06_top_term</th>\n",
       "      <th>al1_0.06_ifn_bf</th>\n",
       "    </tr>\n",
       "  </thead>\n",
       "  <tbody>\n",
       "    <tr>\n",
       "      <th>del_5</th>\n",
       "      <td>4</td>\n",
       "      <td>20</td>\n",
       "      <td>5</td>\n",
       "      <td>29</td>\n",
       "      <td>5</td>\n",
       "      <td>39</td>\n",
       "      <td>INTERFERON_SIGNALING</td>\n",
       "      <td>6.367043</td>\n",
       "      <td>4</td>\n",
       "      <td>20</td>\n",
       "      <td>...</td>\n",
       "      <td>RIG_I_MDA5_MEDIATED_INDUCTION_</td>\n",
       "      <td>-0.001143</td>\n",
       "      <td>5</td>\n",
       "      <td>19</td>\n",
       "      <td>5</td>\n",
       "      <td>28</td>\n",
       "      <td>5</td>\n",
       "      <td>32</td>\n",
       "      <td>INTERFERON_SIGNALING</td>\n",
       "      <td>5.293305</td>\n",
       "    </tr>\n",
       "    <tr>\n",
       "      <th>del_10</th>\n",
       "      <td>3</td>\n",
       "      <td>20</td>\n",
       "      <td>7</td>\n",
       "      <td>29</td>\n",
       "      <td>8</td>\n",
       "      <td>40</td>\n",
       "      <td>INTERFERON_SIGNALING</td>\n",
       "      <td>-5.672177</td>\n",
       "      <td>5</td>\n",
       "      <td>19</td>\n",
       "      <td>...</td>\n",
       "      <td>MITOTIC_M_M_G1_PHASES</td>\n",
       "      <td>-0.012572</td>\n",
       "      <td>0</td>\n",
       "      <td>17</td>\n",
       "      <td>0</td>\n",
       "      <td>24</td>\n",
       "      <td>1</td>\n",
       "      <td>35</td>\n",
       "      <td>INNATE_IMMUNE_SYSTEM</td>\n",
       "      <td>-0.002286</td>\n",
       "    </tr>\n",
       "    <tr>\n",
       "      <th>del_15</th>\n",
       "      <td>7</td>\n",
       "      <td>19</td>\n",
       "      <td>11</td>\n",
       "      <td>29</td>\n",
       "      <td>13</td>\n",
       "      <td>40</td>\n",
       "      <td>INTERFERON_SIGNALING</td>\n",
       "      <td>-5.109978</td>\n",
       "      <td>3</td>\n",
       "      <td>19</td>\n",
       "      <td>...</td>\n",
       "      <td>REGULATION_OF_INSULIN_SECRETIO</td>\n",
       "      <td>-0.002857</td>\n",
       "      <td>0</td>\n",
       "      <td>19</td>\n",
       "      <td>0</td>\n",
       "      <td>27</td>\n",
       "      <td>0</td>\n",
       "      <td>38</td>\n",
       "      <td>LIPID_DIGESTION_MOBILIZATION_A</td>\n",
       "      <td>-0.017715</td>\n",
       "    </tr>\n",
       "  </tbody>\n",
       "</table>\n",
       "<p>3 rows × 40 columns</p>\n",
       "</div>"
      ],
      "text/plain": [
       "        al1_0.4_recov_top20  al1_0.4_in_ifn_top20  al1_0.4_recov_top30  \\\n",
       "del_5                     4                    20                    5   \n",
       "del_10                    3                    20                    7   \n",
       "del_15                    7                    19                   11   \n",
       "\n",
       "        al1_0.4_in_ifn_top30  al1_0.4_recov_top50  al1_0.4_in_ifn_top50  \\\n",
       "del_5                     29                    5                    39   \n",
       "del_10                    29                    8                    40   \n",
       "del_15                    29                   13                    40   \n",
       "\n",
       "            al1_0.4_top_term  al1_0.4_ifn_bf  al1_0.3_recov_top20  \\\n",
       "del_5   INTERFERON_SIGNALING        6.367043                    4   \n",
       "del_10  INTERFERON_SIGNALING       -5.672177                    5   \n",
       "del_15  INTERFERON_SIGNALING       -5.109978                    3   \n",
       "\n",
       "        al1_0.3_in_ifn_top20  ...                al1_0.1_top_term  \\\n",
       "del_5                     20  ...  RIG_I_MDA5_MEDIATED_INDUCTION_   \n",
       "del_10                    19  ...           MITOTIC_M_M_G1_PHASES   \n",
       "del_15                    19  ...  REGULATION_OF_INSULIN_SECRETIO   \n",
       "\n",
       "        al1_0.1_ifn_bf  al1_0.06_recov_top20  al1_0.06_in_ifn_top20  \\\n",
       "del_5        -0.001143                     5                     19   \n",
       "del_10       -0.012572                     0                     17   \n",
       "del_15       -0.002857                     0                     19   \n",
       "\n",
       "       al1_0.06_recov_top30  al1_0.06_in_ifn_top30  al1_0.06_recov_top50  \\\n",
       "del_5                     5                     28                     5   \n",
       "del_10                    0                     24                     1   \n",
       "del_15                    0                     27                     0   \n",
       "\n",
       "        al1_0.06_in_ifn_top50               al1_0.06_top_term  al1_0.06_ifn_bf  \n",
       "del_5                      32            INTERFERON_SIGNALING         5.293305  \n",
       "del_10                     35            INNATE_IMMUNE_SYSTEM        -0.002286  \n",
       "del_15                     38  LIPID_DIGESTION_MOBILIZATION_A        -0.017715  \n",
       "\n",
       "[3 rows x 40 columns]"
      ]
     },
     "execution_count": 4,
     "metadata": {},
     "output_type": "execute_result"
    }
   ],
   "source": [
    "df"
   ]
  },
  {
   "cell_type": "code",
   "execution_count": 5,
   "id": "difficult-inside",
   "metadata": {},
   "outputs": [
    {
     "data": {
      "text/html": [
       "<div>\n",
       "<style scoped>\n",
       "    .dataframe tbody tr th:only-of-type {\n",
       "        vertical-align: middle;\n",
       "    }\n",
       "\n",
       "    .dataframe tbody tr th {\n",
       "        vertical-align: top;\n",
       "    }\n",
       "\n",
       "    .dataframe thead th {\n",
       "        text-align: right;\n",
       "    }\n",
       "</style>\n",
       "<table border=\"1\" class=\"dataframe\">\n",
       "  <thead>\n",
       "    <tr style=\"text-align: right;\">\n",
       "      <th></th>\n",
       "      <th>al1_0.4_recov_top20</th>\n",
       "      <th>al1_0.4_recov_top30</th>\n",
       "      <th>al1_0.4_recov_top50</th>\n",
       "      <th>al1_0.4_top_term</th>\n",
       "      <th>al1_0.4_ifn_bf</th>\n",
       "    </tr>\n",
       "  </thead>\n",
       "  <tbody>\n",
       "    <tr>\n",
       "      <th>del_5</th>\n",
       "      <td>4</td>\n",
       "      <td>5</td>\n",
       "      <td>5</td>\n",
       "      <td>INTERFERON_SIGNALING</td>\n",
       "      <td>6.367043</td>\n",
       "    </tr>\n",
       "    <tr>\n",
       "      <th>del_10</th>\n",
       "      <td>3</td>\n",
       "      <td>7</td>\n",
       "      <td>8</td>\n",
       "      <td>INTERFERON_SIGNALING</td>\n",
       "      <td>-5.672177</td>\n",
       "    </tr>\n",
       "    <tr>\n",
       "      <th>del_15</th>\n",
       "      <td>7</td>\n",
       "      <td>11</td>\n",
       "      <td>13</td>\n",
       "      <td>INTERFERON_SIGNALING</td>\n",
       "      <td>-5.109978</td>\n",
       "    </tr>\n",
       "  </tbody>\n",
       "</table>\n",
       "</div>"
      ],
      "text/plain": [
       "        al1_0.4_recov_top20  al1_0.4_recov_top30  al1_0.4_recov_top50  \\\n",
       "del_5                     4                    5                    5   \n",
       "del_10                    3                    7                    8   \n",
       "del_15                    7                   11                   13   \n",
       "\n",
       "            al1_0.4_top_term  al1_0.4_ifn_bf  \n",
       "del_5   INTERFERON_SIGNALING        6.367043  \n",
       "del_10  INTERFERON_SIGNALING       -5.672177  \n",
       "del_15  INTERFERON_SIGNALING       -5.109978  "
      ]
     },
     "execution_count": 5,
     "metadata": {},
     "output_type": "execute_result"
    }
   ],
   "source": [
    "df[[col for col in df.columns if ('recov' in col or 'bf' in col or 'term' in col) and '0.4' in col]]"
   ]
  },
  {
   "cell_type": "code",
   "execution_count": 6,
   "id": "precious-loading",
   "metadata": {},
   "outputs": [
    {
     "data": {
      "text/html": [
       "<div>\n",
       "<style scoped>\n",
       "    .dataframe tbody tr th:only-of-type {\n",
       "        vertical-align: middle;\n",
       "    }\n",
       "\n",
       "    .dataframe tbody tr th {\n",
       "        vertical-align: top;\n",
       "    }\n",
       "\n",
       "    .dataframe thead th {\n",
       "        text-align: right;\n",
       "    }\n",
       "</style>\n",
       "<table border=\"1\" class=\"dataframe\">\n",
       "  <thead>\n",
       "    <tr style=\"text-align: right;\">\n",
       "      <th></th>\n",
       "      <th>al1_0.3_recov_top20</th>\n",
       "      <th>al1_0.3_recov_top30</th>\n",
       "      <th>al1_0.3_recov_top50</th>\n",
       "      <th>al1_0.3_top_term</th>\n",
       "      <th>al1_0.3_ifn_bf</th>\n",
       "    </tr>\n",
       "  </thead>\n",
       "  <tbody>\n",
       "    <tr>\n",
       "      <th>del_5</th>\n",
       "      <td>4</td>\n",
       "      <td>5</td>\n",
       "      <td>5</td>\n",
       "      <td>INTERFERON_SIGNALING</td>\n",
       "      <td>6.286857</td>\n",
       "    </tr>\n",
       "    <tr>\n",
       "      <th>del_10</th>\n",
       "      <td>5</td>\n",
       "      <td>8</td>\n",
       "      <td>9</td>\n",
       "      <td>INTERFERON_SIGNALING</td>\n",
       "      <td>6.773080</td>\n",
       "    </tr>\n",
       "    <tr>\n",
       "      <th>del_15</th>\n",
       "      <td>3</td>\n",
       "      <td>6</td>\n",
       "      <td>8</td>\n",
       "      <td>CLASS_I_MHC_MEDIATED_ANTIGEN_P</td>\n",
       "      <td>3.127178</td>\n",
       "    </tr>\n",
       "  </tbody>\n",
       "</table>\n",
       "</div>"
      ],
      "text/plain": [
       "        al1_0.3_recov_top20  al1_0.3_recov_top30  al1_0.3_recov_top50  \\\n",
       "del_5                     4                    5                    5   \n",
       "del_10                    5                    8                    9   \n",
       "del_15                    3                    6                    8   \n",
       "\n",
       "                      al1_0.3_top_term  al1_0.3_ifn_bf  \n",
       "del_5             INTERFERON_SIGNALING        6.286857  \n",
       "del_10            INTERFERON_SIGNALING        6.773080  \n",
       "del_15  CLASS_I_MHC_MEDIATED_ANTIGEN_P        3.127178  "
      ]
     },
     "execution_count": 6,
     "metadata": {},
     "output_type": "execute_result"
    }
   ],
   "source": [
    "df[[col for col in df.columns if ('recov' in col or 'bf' in col or 'term' in col) and '0.3' in col]]"
   ]
  },
  {
   "cell_type": "code",
   "execution_count": 7,
   "id": "unexpected-marking",
   "metadata": {},
   "outputs": [
    {
     "data": {
      "text/html": [
       "<div>\n",
       "<style scoped>\n",
       "    .dataframe tbody tr th:only-of-type {\n",
       "        vertical-align: middle;\n",
       "    }\n",
       "\n",
       "    .dataframe tbody tr th {\n",
       "        vertical-align: top;\n",
       "    }\n",
       "\n",
       "    .dataframe thead th {\n",
       "        text-align: right;\n",
       "    }\n",
       "</style>\n",
       "<table border=\"1\" class=\"dataframe\">\n",
       "  <thead>\n",
       "    <tr style=\"text-align: right;\">\n",
       "      <th></th>\n",
       "      <th>al1_0.2_recov_top20</th>\n",
       "      <th>al1_0.2_recov_top30</th>\n",
       "      <th>al1_0.2_recov_top50</th>\n",
       "      <th>al1_0.2_top_term</th>\n",
       "      <th>al1_0.2_ifn_bf</th>\n",
       "    </tr>\n",
       "  </thead>\n",
       "  <tbody>\n",
       "    <tr>\n",
       "      <th>del_5</th>\n",
       "      <td>4</td>\n",
       "      <td>5</td>\n",
       "      <td>5</td>\n",
       "      <td>INTERFERON_SIGNALING</td>\n",
       "      <td>5.415240</td>\n",
       "    </tr>\n",
       "    <tr>\n",
       "      <th>del_10</th>\n",
       "      <td>5</td>\n",
       "      <td>9</td>\n",
       "      <td>10</td>\n",
       "      <td>INTERFERON_SIGNALING</td>\n",
       "      <td>5.855072</td>\n",
       "    </tr>\n",
       "    <tr>\n",
       "      <th>del_15</th>\n",
       "      <td>0</td>\n",
       "      <td>3</td>\n",
       "      <td>6</td>\n",
       "      <td>ADAPTIVE_IMMUNE_SYSTEM</td>\n",
       "      <td>2.593291</td>\n",
       "    </tr>\n",
       "  </tbody>\n",
       "</table>\n",
       "</div>"
      ],
      "text/plain": [
       "        al1_0.2_recov_top20  al1_0.2_recov_top30  al1_0.2_recov_top50  \\\n",
       "del_5                     4                    5                    5   \n",
       "del_10                    5                    9                   10   \n",
       "del_15                    0                    3                    6   \n",
       "\n",
       "              al1_0.2_top_term  al1_0.2_ifn_bf  \n",
       "del_5     INTERFERON_SIGNALING        5.415240  \n",
       "del_10    INTERFERON_SIGNALING        5.855072  \n",
       "del_15  ADAPTIVE_IMMUNE_SYSTEM        2.593291  "
      ]
     },
     "execution_count": 7,
     "metadata": {},
     "output_type": "execute_result"
    }
   ],
   "source": [
    "df[[col for col in df.columns if ('recov' in col or 'bf' in col or 'term' in col) and '0.2' in col]]"
   ]
  },
  {
   "cell_type": "code",
   "execution_count": 8,
   "id": "purple-bridal",
   "metadata": {},
   "outputs": [
    {
     "data": {
      "text/html": [
       "<div>\n",
       "<style scoped>\n",
       "    .dataframe tbody tr th:only-of-type {\n",
       "        vertical-align: middle;\n",
       "    }\n",
       "\n",
       "    .dataframe tbody tr th {\n",
       "        vertical-align: top;\n",
       "    }\n",
       "\n",
       "    .dataframe thead th {\n",
       "        text-align: right;\n",
       "    }\n",
       "</style>\n",
       "<table border=\"1\" class=\"dataframe\">\n",
       "  <thead>\n",
       "    <tr style=\"text-align: right;\">\n",
       "      <th></th>\n",
       "      <th>al1_0.1_recov_top20</th>\n",
       "      <th>al1_0.1_recov_top30</th>\n",
       "      <th>al1_0.1_recov_top50</th>\n",
       "      <th>al1_0.1_top_term</th>\n",
       "      <th>al1_0.1_ifn_bf</th>\n",
       "    </tr>\n",
       "  </thead>\n",
       "  <tbody>\n",
       "    <tr>\n",
       "      <th>del_5</th>\n",
       "      <td>1</td>\n",
       "      <td>2</td>\n",
       "      <td>3</td>\n",
       "      <td>RIG_I_MDA5_MEDIATED_INDUCTION_</td>\n",
       "      <td>-0.001143</td>\n",
       "    </tr>\n",
       "    <tr>\n",
       "      <th>del_10</th>\n",
       "      <td>1</td>\n",
       "      <td>1</td>\n",
       "      <td>1</td>\n",
       "      <td>MITOTIC_M_M_G1_PHASES</td>\n",
       "      <td>-0.012572</td>\n",
       "    </tr>\n",
       "    <tr>\n",
       "      <th>del_15</th>\n",
       "      <td>0</td>\n",
       "      <td>0</td>\n",
       "      <td>0</td>\n",
       "      <td>REGULATION_OF_INSULIN_SECRETIO</td>\n",
       "      <td>-0.002857</td>\n",
       "    </tr>\n",
       "  </tbody>\n",
       "</table>\n",
       "</div>"
      ],
      "text/plain": [
       "        al1_0.1_recov_top20  al1_0.1_recov_top30  al1_0.1_recov_top50  \\\n",
       "del_5                     1                    2                    3   \n",
       "del_10                    1                    1                    1   \n",
       "del_15                    0                    0                    0   \n",
       "\n",
       "                      al1_0.1_top_term  al1_0.1_ifn_bf  \n",
       "del_5   RIG_I_MDA5_MEDIATED_INDUCTION_       -0.001143  \n",
       "del_10           MITOTIC_M_M_G1_PHASES       -0.012572  \n",
       "del_15  REGULATION_OF_INSULIN_SECRETIO       -0.002857  "
      ]
     },
     "execution_count": 8,
     "metadata": {},
     "output_type": "execute_result"
    }
   ],
   "source": [
    "df[[col for col in df.columns if ('recov' in col or 'bf' in col or 'term' in col) and '0.1' in col]]"
   ]
  },
  {
   "cell_type": "code",
   "execution_count": 9,
   "id": "controlled-parent",
   "metadata": {},
   "outputs": [
    {
     "data": {
      "text/html": [
       "<div>\n",
       "<style scoped>\n",
       "    .dataframe tbody tr th:only-of-type {\n",
       "        vertical-align: middle;\n",
       "    }\n",
       "\n",
       "    .dataframe tbody tr th {\n",
       "        vertical-align: top;\n",
       "    }\n",
       "\n",
       "    .dataframe thead th {\n",
       "        text-align: right;\n",
       "    }\n",
       "</style>\n",
       "<table border=\"1\" class=\"dataframe\">\n",
       "  <thead>\n",
       "    <tr style=\"text-align: right;\">\n",
       "      <th></th>\n",
       "      <th>al1_0.06_recov_top20</th>\n",
       "      <th>al1_0.06_recov_top30</th>\n",
       "      <th>al1_0.06_recov_top50</th>\n",
       "      <th>al1_0.06_top_term</th>\n",
       "      <th>al1_0.06_ifn_bf</th>\n",
       "    </tr>\n",
       "  </thead>\n",
       "  <tbody>\n",
       "    <tr>\n",
       "      <th>del_5</th>\n",
       "      <td>5</td>\n",
       "      <td>5</td>\n",
       "      <td>5</td>\n",
       "      <td>INTERFERON_SIGNALING</td>\n",
       "      <td>5.293305</td>\n",
       "    </tr>\n",
       "    <tr>\n",
       "      <th>del_10</th>\n",
       "      <td>0</td>\n",
       "      <td>0</td>\n",
       "      <td>1</td>\n",
       "      <td>INNATE_IMMUNE_SYSTEM</td>\n",
       "      <td>-0.002286</td>\n",
       "    </tr>\n",
       "    <tr>\n",
       "      <th>del_15</th>\n",
       "      <td>0</td>\n",
       "      <td>0</td>\n",
       "      <td>0</td>\n",
       "      <td>LIPID_DIGESTION_MOBILIZATION_A</td>\n",
       "      <td>-0.017715</td>\n",
       "    </tr>\n",
       "  </tbody>\n",
       "</table>\n",
       "</div>"
      ],
      "text/plain": [
       "        al1_0.06_recov_top20  al1_0.06_recov_top30  al1_0.06_recov_top50  \\\n",
       "del_5                      5                     5                     5   \n",
       "del_10                     0                     0                     1   \n",
       "del_15                     0                     0                     0   \n",
       "\n",
       "                     al1_0.06_top_term  al1_0.06_ifn_bf  \n",
       "del_5             INTERFERON_SIGNALING         5.293305  \n",
       "del_10            INNATE_IMMUNE_SYSTEM        -0.002286  \n",
       "del_15  LIPID_DIGESTION_MOBILIZATION_A        -0.017715  "
      ]
     },
     "execution_count": 9,
     "metadata": {},
     "output_type": "execute_result"
    }
   ],
   "source": [
    "df[[col for col in df.columns if ('recov' in col or 'bf' in col or 'term' in col) and '0.06' in col]]"
   ]
  },
  {
   "cell_type": "code",
   "execution_count": null,
   "id": "exempt-knock",
   "metadata": {},
   "outputs": [],
   "source": []
  },
  {
   "cell_type": "code",
   "execution_count": 10,
   "id": "acute-stuart",
   "metadata": {},
   "outputs": [],
   "source": [
    "recov = df[[col for col in df.columns if 'recov' in col and '30' in col]]"
   ]
  },
  {
   "cell_type": "code",
   "execution_count": 11,
   "id": "joined-merchandise",
   "metadata": {},
   "outputs": [
    {
     "name": "stderr",
     "output_type": "stream",
     "text": [
      "C:\\Users\\sergei.rybakov\\Apps\\Miniconda3\\envs\\work38\\lib\\site-packages\\pandas\\core\\indexing.py:1700: SettingWithCopyWarning: \n",
      "A value is trying to be set on a copy of a slice from a DataFrame.\n",
      "Try using .loc[row_indexer,col_indexer] = value instead\n",
      "\n",
      "See the caveats in the documentation: https://pandas.pydata.org/pandas-docs/stable/user_guide/indexing.html#returning-a-view-versus-a-copy\n",
      "  self._setitem_single_column(loc, v, pi)\n"
     ]
    }
   ],
   "source": [
    "recov.iloc[0] /= 5\n",
    "recov.iloc[1] /= 10\n",
    "recov.iloc[2] /= 15"
   ]
  },
  {
   "cell_type": "code",
   "execution_count": 21,
   "id": "engaged-nylon",
   "metadata": {},
   "outputs": [],
   "source": [
    "recov.columns = ['L1 0.4', 'L1 0.3', 'L1 0.2', 'L1 0.1', 'L1 0.06']"
   ]
  },
  {
   "cell_type": "code",
   "execution_count": 41,
   "id": "angry-examination",
   "metadata": {},
   "outputs": [
    {
     "data": {
      "text/plain": [
       "<matplotlib.legend.Legend at 0x1a1694d5400>"
      ]
     },
     "execution_count": 41,
     "metadata": {},
     "output_type": "execute_result"
    },
    {
     "data": {
      "image/png": "[encoded data removed]",
      "text/plain": [
       "<Figure size 1260x980 with 1 Axes>"
      ]
     },
     "metadata": {
      "needs_background": "light"
     },
     "output_type": "display_data"
    }
   ],
   "source": [
    "axs = recov.plot.bar(colormap='viridis', figsize=(9,7), ylim=(0,1.01), title='Percentage of recovered genes in top 30.')\n",
    "axs.set_xticklabels(axs.get_xticklabels(), rotation=45)\n",
    "axs.legend(bbox_to_anchor=(1.22, 1))"
   ]
  },
  {
   "cell_type": "code",
   "execution_count": 13,
   "id": "dutch-bronze",
   "metadata": {},
   "outputs": [],
   "source": [
    "in_ifn = df[[col for col in df.columns if 'in_ifn_top30' in col]]"
   ]
  },
  {
   "cell_type": "code",
   "execution_count": 26,
   "id": "supreme-sunset",
   "metadata": {},
   "outputs": [],
   "source": [
    "in_ifn.columns = ['L1 0.4', 'L1 0.3', 'L1 0.2', 'L1 0.1', 'L1 0.06']"
   ]
  },
  {
   "cell_type": "code",
   "execution_count": 42,
   "id": "multiple-absence",
   "metadata": {},
   "outputs": [
    {
     "data": {
      "text/plain": [
       "<matplotlib.legend.Legend at 0x1a16ff02820>"
      ]
     },
     "execution_count": 42,
     "metadata": {},
     "output_type": "execute_result"
    },
    {
     "data": {
      "image/png": "[encoded data removed]",
      "text/plain": [
       "<Figure size 1260x980 with 1 Axes>"
      ]
     },
     "metadata": {
      "needs_background": "light"
     },
     "output_type": "display_data"
    }
   ],
   "source": [
    "axs = (in_ifn / 30.).plot.bar(colormap='viridis', figsize=(9,7), ylim=(0,1.01), \n",
    "                              title='Percentage of IFN genes (incl. removed) in top 30.')\n",
    "axs.set_xticklabels(axs.get_xticklabels(), rotation=45)\n",
    "axs.legend(bbox_to_anchor=(1.22, 1))"
   ]
  },
  {
   "cell_type": "code",
   "execution_count": null,
   "id": "first-windows",
   "metadata": {},
   "outputs": [],
   "source": []
  }
 ],
 "metadata": {
  "kernelspec": {
   "display_name": "Python 3",
   "language": "python",
   "name": "python3"
  },
  "language_info": {
   "codemirror_mode": {
    "name": "ipython",
    "version": 3
   },
   "file_extension": ".py",
   "mimetype": "text/x-python",
   "name": "python",
   "nbconvert_exporter": "python",
   "pygments_lexer": "ipython3",
   "version": "3.8.8"
  }
 },
 "nbformat": 4,
 "nbformat_minor": 5
}
