{
  "nbformat": 4,
  "nbformat_minor": 0,
  "metadata": {
    "accelerator": "GPU",
    "colab": {
      "name": "210830_qtr_heart_disease.ipynb",
      "provenance": [],
      "collapsed_sections": [],
      "machine_shape": "hm"
    },
    "kernelspec": {
      "display_name": "Python 3",
      "name": "python3"
    },
    "language_info": {
      "name": "python"
    }
  },
  "cells": [
    {
      "cell_type": "markdown",
      "metadata": {
        "id": "1CW0YPIlXsCV"
      },
      "source": [
        "### Notebook for the testing of `qtr` in the heart with and without failure. \n",
        "- **Developed by** Carlos Talavera-López Ph.D\n",
        "- **Institute of AI for Health - HelmholtzZentrum münchen**\n",
        "- v210830"
      ]
    },
    {
      "cell_type": "markdown",
      "metadata": {
        "id": "4m0nmHMRYVHJ"
      },
      "source": [
        "The idea is to use `qtr` to evaluate the biological differences between protocols used for the human heart project.  "
      ]
    },
    {
      "cell_type": "markdown",
      "metadata": {
        "id": "4LqKICvqanKH"
      },
      "source": [
        "### Install the latest version of `qtr`"
      ]
    },
    {
      "cell_type": "code",
      "metadata": {
        "colab": {
          "base_uri": "https://localhost:8080/"
        },
        "id": "BpPbuK8DaqtW",
        "outputId": "742e8369-b732-486d-c322-b711c9b97ff1"
      },
      "source": [
        "!pip install -e git+https://github.com/theislab/scarches.git@sergey#egg=scarches\n",
        "!pip install --user scikit-misc"
      ],
      "execution_count": 1,
      "outputs": [
        {
          "output_type": "stream",
          "name": "stdout",
          "text": [
            "Obtaining scarches from git+https://github.com/theislab/scarches.git@sergey#egg=scarches\n",
            "  Updating ./src/scarches clone (to revision sergey)\n",
            "  Running command git fetch -q --tags\n",
            "  Running command git reset --hard -q b05231261842951f05db3cf78247344e3d05d4ce\n",
            "Requirement already satisfied: scanpy>=1.6.0 in /usr/local/lib/python3.7/dist-packages (from scarches) (1.8.1)\n",
            "Requirement already satisfied: anndata>=0.7.4 in /usr/local/lib/python3.7/dist-packages (from scarches) (0.7.6)\n",
            "Requirement already satisfied: h5py>=2.10.0 in /usr/local/lib/python3.7/dist-packages (from scarches) (3.1.0)\n",
            "Requirement already satisfied: torch>=1.6.0 in /usr/local/lib/python3.7/dist-packages (from scarches) (1.9.0+cu102)\n",
            "Requirement already satisfied: numpy>=1.19.2 in /usr/local/lib/python3.7/dist-packages (from scarches) (1.19.5)\n",
            "Requirement already satisfied: scipy>=1.5.2 in /usr/local/lib/python3.7/dist-packages (from scarches) (1.7.1)\n",
            "Requirement already satisfied: scikit-learn>=0.23.2 in /usr/local/lib/python3.7/dist-packages (from scarches) (0.24.2)\n",
            "Requirement already satisfied: matplotlib>=3.3.1 in /usr/local/lib/python3.7/dist-packages (from scarches) (3.4.3)\n",
            "Requirement already satisfied: pandas>=1.1.2 in /usr/local/lib/python3.7/dist-packages (from scarches) (1.1.5)\n",
            "Requirement already satisfied: scvi-tools==0.8.1 in /usr/local/lib/python3.7/dist-packages (from scarches) (0.8.1)\n",
            "Requirement already satisfied: tqdm in /usr/local/lib/python3.7/dist-packages (from scarches) (4.62.0)\n",
            "Requirement already satisfied: requests in /usr/local/lib/python3.7/dist-packages (from scarches) (2.23.0)\n",
            "Requirement already satisfied: gdown in /usr/local/lib/python3.7/dist-packages (from scarches) (3.6.4)\n",
            "Requirement already satisfied: hyperopt==0.1.2 in /usr/local/lib/python3.7/dist-packages (from scvi-tools==0.8.1->scarches) (0.1.2)\n",
            "Requirement already satisfied: rich>=6.2.0 in /usr/local/lib/python3.7/dist-packages (from scvi-tools==0.8.1->scarches) (10.9.0)\n",
            "Requirement already satisfied: ipywidgets in /usr/local/lib/python3.7/dist-packages (from scvi-tools==0.8.1->scarches) (7.6.3)\n",
            "Requirement already satisfied: openpyxl>=3.0 in /usr/local/lib/python3.7/dist-packages (from scvi-tools==0.8.1->scarches) (3.0.7)\n",
            "Requirement already satisfied: numba>=0.41.0 in /usr/local/lib/python3.7/dist-packages (from scvi-tools==0.8.1->scarches) (0.51.2)\n",
            "Requirement already satisfied: importlib-metadata<2.0,>=1.0 in /usr/local/lib/python3.7/dist-packages (from scvi-tools==0.8.1->scarches) (1.7.0)\n",
            "Requirement already satisfied: six in /usr/local/lib/python3.7/dist-packages (from hyperopt==0.1.2->scvi-tools==0.8.1->scarches) (1.15.0)\n",
            "Requirement already satisfied: future in /usr/local/lib/python3.7/dist-packages (from hyperopt==0.1.2->scvi-tools==0.8.1->scarches) (0.16.0)\n",
            "Requirement already satisfied: pymongo in /usr/local/lib/python3.7/dist-packages (from hyperopt==0.1.2->scvi-tools==0.8.1->scarches) (3.12.0)\n",
            "Requirement already satisfied: networkx in /usr/local/lib/python3.7/dist-packages (from hyperopt==0.1.2->scvi-tools==0.8.1->scarches) (2.6.2)\n",
            "Requirement already satisfied: natsort in /usr/local/lib/python3.7/dist-packages (from anndata>=0.7.4->scarches) (5.5.0)\n",
            "Requirement already satisfied: xlrd<2.0 in /usr/local/lib/python3.7/dist-packages (from anndata>=0.7.4->scarches) (1.1.0)\n",
            "Requirement already satisfied: packaging>=20 in /usr/local/lib/python3.7/dist-packages (from anndata>=0.7.4->scarches) (21.0)\n",
            "Requirement already satisfied: cached-property in /usr/local/lib/python3.7/dist-packages (from h5py>=2.10.0->scarches) (1.5.2)\n",
            "Requirement already satisfied: zipp>=0.5 in /usr/local/lib/python3.7/dist-packages (from importlib-metadata<2.0,>=1.0->scvi-tools==0.8.1->scarches) (3.5.0)\n",
            "Requirement already satisfied: cycler>=0.10 in /usr/local/lib/python3.7/dist-packages (from matplotlib>=3.3.1->scarches) (0.10.0)\n",
            "Requirement already satisfied: pyparsing>=2.2.1 in /usr/local/lib/python3.7/dist-packages (from matplotlib>=3.3.1->scarches) (2.4.7)\n",
            "Requirement already satisfied: pillow>=6.2.0 in /usr/local/lib/python3.7/dist-packages (from matplotlib>=3.3.1->scarches) (7.1.2)\n",
            "Requirement already satisfied: kiwisolver>=1.0.1 in /usr/local/lib/python3.7/dist-packages (from matplotlib>=3.3.1->scarches) (1.3.1)\n",
            "Requirement already satisfied: python-dateutil>=2.7 in /usr/local/lib/python3.7/dist-packages (from matplotlib>=3.3.1->scarches) (2.8.2)\n",
            "Requirement already satisfied: setuptools in /usr/local/lib/python3.7/dist-packages (from numba>=0.41.0->scvi-tools==0.8.1->scarches) (57.4.0)\n",
            "Requirement already satisfied: llvmlite<0.35,>=0.34.0.dev0 in /usr/local/lib/python3.7/dist-packages (from numba>=0.41.0->scvi-tools==0.8.1->scarches) (0.34.0)\n",
            "Requirement already satisfied: et-xmlfile in /usr/local/lib/python3.7/dist-packages (from openpyxl>=3.0->scvi-tools==0.8.1->scarches) (1.1.0)\n",
            "Requirement already satisfied: pytz>=2017.2 in /usr/local/lib/python3.7/dist-packages (from pandas>=1.1.2->scarches) (2018.9)\n",
            "Requirement already satisfied: commonmark<0.10.0,>=0.9.0 in /usr/local/lib/python3.7/dist-packages (from rich>=6.2.0->scvi-tools==0.8.1->scarches) (0.9.1)\n",
            "Requirement already satisfied: typing-extensions<4.0.0,>=3.7.4 in /usr/local/lib/python3.7/dist-packages (from rich>=6.2.0->scvi-tools==0.8.1->scarches) (3.7.4.3)\n",
            "Requirement already satisfied: colorama<0.5.0,>=0.4.0 in /usr/local/lib/python3.7/dist-packages (from rich>=6.2.0->scvi-tools==0.8.1->scarches) (0.4.4)\n",
            "Requirement already satisfied: pygments<3.0.0,>=2.6.0 in /usr/local/lib/python3.7/dist-packages (from rich>=6.2.0->scvi-tools==0.8.1->scarches) (2.6.1)\n",
            "Requirement already satisfied: seaborn in /usr/local/lib/python3.7/dist-packages (from scanpy>=1.6.0->scarches) (0.11.1)\n",
            "Requirement already satisfied: tables in /usr/local/lib/python3.7/dist-packages (from scanpy>=1.6.0->scarches) (3.4.4)\n",
            "Requirement already satisfied: joblib in /usr/local/lib/python3.7/dist-packages (from scanpy>=1.6.0->scarches) (1.0.1)\n",
            "Requirement already satisfied: statsmodels>=0.10.0rc2 in /usr/local/lib/python3.7/dist-packages (from scanpy>=1.6.0->scarches) (0.10.2)\n",
            "Requirement already satisfied: patsy in /usr/local/lib/python3.7/dist-packages (from scanpy>=1.6.0->scarches) (0.5.1)\n",
            "Requirement already satisfied: sinfo in /usr/local/lib/python3.7/dist-packages (from scanpy>=1.6.0->scarches) (0.3.4)\n",
            "Requirement already satisfied: umap-learn>=0.3.10 in /usr/local/lib/python3.7/dist-packages (from scanpy>=1.6.0->scarches) (0.5.1)\n",
            "Requirement already satisfied: threadpoolctl>=2.0.0 in /usr/local/lib/python3.7/dist-packages (from scikit-learn>=0.23.2->scarches) (2.2.0)\n",
            "Requirement already satisfied: pynndescent>=0.5 in /usr/local/lib/python3.7/dist-packages (from umap-learn>=0.3.10->scanpy>=1.6.0->scarches) (0.5.4)\n",
            "Requirement already satisfied: widgetsnbextension~=3.5.0 in /usr/local/lib/python3.7/dist-packages (from ipywidgets->scvi-tools==0.8.1->scarches) (3.5.1)\n",
            "Requirement already satisfied: jupyterlab-widgets>=1.0.0 in /usr/local/lib/python3.7/dist-packages (from ipywidgets->scvi-tools==0.8.1->scarches) (1.0.0)\n",
            "Requirement already satisfied: traitlets>=4.3.1 in /usr/local/lib/python3.7/dist-packages (from ipywidgets->scvi-tools==0.8.1->scarches) (5.0.5)\n",
            "Requirement already satisfied: ipykernel>=4.5.1 in /usr/local/lib/python3.7/dist-packages (from ipywidgets->scvi-tools==0.8.1->scarches) (4.10.1)\n",
            "Requirement already satisfied: ipython>=4.0.0 in /usr/local/lib/python3.7/dist-packages (from ipywidgets->scvi-tools==0.8.1->scarches) (5.5.0)\n",
            "Requirement already satisfied: nbformat>=4.2.0 in /usr/local/lib/python3.7/dist-packages (from ipywidgets->scvi-tools==0.8.1->scarches) (5.1.3)\n",
            "Requirement already satisfied: jupyter-client in /usr/local/lib/python3.7/dist-packages (from ipykernel>=4.5.1->ipywidgets->scvi-tools==0.8.1->scarches) (5.3.5)\n",
            "Requirement already satisfied: tornado>=4.0 in /usr/local/lib/python3.7/dist-packages (from ipykernel>=4.5.1->ipywidgets->scvi-tools==0.8.1->scarches) (5.1.1)\n",
            "Requirement already satisfied: simplegeneric>0.8 in /usr/local/lib/python3.7/dist-packages (from ipython>=4.0.0->ipywidgets->scvi-tools==0.8.1->scarches) (0.8.1)\n",
            "Requirement already satisfied: prompt-toolkit<2.0.0,>=1.0.4 in /usr/local/lib/python3.7/dist-packages (from ipython>=4.0.0->ipywidgets->scvi-tools==0.8.1->scarches) (1.0.18)\n",
            "Requirement already satisfied: decorator in /usr/local/lib/python3.7/dist-packages (from ipython>=4.0.0->ipywidgets->scvi-tools==0.8.1->scarches) (4.4.2)\n",
            "Requirement already satisfied: pexpect in /usr/local/lib/python3.7/dist-packages (from ipython>=4.0.0->ipywidgets->scvi-tools==0.8.1->scarches) (4.8.0)\n",
            "Requirement already satisfied: pickleshare in /usr/local/lib/python3.7/dist-packages (from ipython>=4.0.0->ipywidgets->scvi-tools==0.8.1->scarches) (0.7.5)\n",
            "Requirement already satisfied: jsonschema!=2.5.0,>=2.4 in /usr/local/lib/python3.7/dist-packages (from nbformat>=4.2.0->ipywidgets->scvi-tools==0.8.1->scarches) (2.6.0)\n",
            "Requirement already satisfied: ipython-genutils in /usr/local/lib/python3.7/dist-packages (from nbformat>=4.2.0->ipywidgets->scvi-tools==0.8.1->scarches) (0.2.0)\n",
            "Requirement already satisfied: jupyter-core in /usr/local/lib/python3.7/dist-packages (from nbformat>=4.2.0->ipywidgets->scvi-tools==0.8.1->scarches) (4.7.1)\n",
            "Requirement already satisfied: wcwidth in /usr/local/lib/python3.7/dist-packages (from prompt-toolkit<2.0.0,>=1.0.4->ipython>=4.0.0->ipywidgets->scvi-tools==0.8.1->scarches) (0.2.5)\n",
            "Requirement already satisfied: notebook>=4.4.1 in /usr/local/lib/python3.7/dist-packages (from widgetsnbextension~=3.5.0->ipywidgets->scvi-tools==0.8.1->scarches) (5.3.1)\n",
            "Requirement already satisfied: jinja2 in /usr/local/lib/python3.7/dist-packages (from notebook>=4.4.1->widgetsnbextension~=3.5.0->ipywidgets->scvi-tools==0.8.1->scarches) (2.11.3)\n",
            "Requirement already satisfied: nbconvert in /usr/local/lib/python3.7/dist-packages (from notebook>=4.4.1->widgetsnbextension~=3.5.0->ipywidgets->scvi-tools==0.8.1->scarches) (5.6.1)\n",
            "Requirement already satisfied: Send2Trash in /usr/local/lib/python3.7/dist-packages (from notebook>=4.4.1->widgetsnbextension~=3.5.0->ipywidgets->scvi-tools==0.8.1->scarches) (1.8.0)\n",
            "Requirement already satisfied: terminado>=0.8.1 in /usr/local/lib/python3.7/dist-packages (from notebook>=4.4.1->widgetsnbextension~=3.5.0->ipywidgets->scvi-tools==0.8.1->scarches) (0.11.0)\n",
            "Requirement already satisfied: pyzmq>=13 in /usr/local/lib/python3.7/dist-packages (from jupyter-client->ipykernel>=4.5.1->ipywidgets->scvi-tools==0.8.1->scarches) (22.2.1)\n",
            "Requirement already satisfied: ptyprocess in /usr/local/lib/python3.7/dist-packages (from terminado>=0.8.1->notebook>=4.4.1->widgetsnbextension~=3.5.0->ipywidgets->scvi-tools==0.8.1->scarches) (0.7.0)\n",
            "Requirement already satisfied: MarkupSafe>=0.23 in /usr/local/lib/python3.7/dist-packages (from jinja2->notebook>=4.4.1->widgetsnbextension~=3.5.0->ipywidgets->scvi-tools==0.8.1->scarches) (2.0.1)\n",
            "Requirement already satisfied: mistune<2,>=0.8.1 in /usr/local/lib/python3.7/dist-packages (from nbconvert->notebook>=4.4.1->widgetsnbextension~=3.5.0->ipywidgets->scvi-tools==0.8.1->scarches) (0.8.4)\n",
            "Requirement already satisfied: entrypoints>=0.2.2 in /usr/local/lib/python3.7/dist-packages (from nbconvert->notebook>=4.4.1->widgetsnbextension~=3.5.0->ipywidgets->scvi-tools==0.8.1->scarches) (0.3)\n",
            "Requirement already satisfied: pandocfilters>=1.4.1 in /usr/local/lib/python3.7/dist-packages (from nbconvert->notebook>=4.4.1->widgetsnbextension~=3.5.0->ipywidgets->scvi-tools==0.8.1->scarches) (1.4.3)\n",
            "Requirement already satisfied: bleach in /usr/local/lib/python3.7/dist-packages (from nbconvert->notebook>=4.4.1->widgetsnbextension~=3.5.0->ipywidgets->scvi-tools==0.8.1->scarches) (4.0.0)\n",
            "Requirement already satisfied: testpath in /usr/local/lib/python3.7/dist-packages (from nbconvert->notebook>=4.4.1->widgetsnbextension~=3.5.0->ipywidgets->scvi-tools==0.8.1->scarches) (0.5.0)\n",
            "Requirement already satisfied: defusedxml in /usr/local/lib/python3.7/dist-packages (from nbconvert->notebook>=4.4.1->widgetsnbextension~=3.5.0->ipywidgets->scvi-tools==0.8.1->scarches) (0.7.1)\n",
            "Requirement already satisfied: webencodings in /usr/local/lib/python3.7/dist-packages (from bleach->nbconvert->notebook>=4.4.1->widgetsnbextension~=3.5.0->ipywidgets->scvi-tools==0.8.1->scarches) (0.5.1)\n",
            "Requirement already satisfied: chardet<4,>=3.0.2 in /usr/local/lib/python3.7/dist-packages (from requests->scarches) (3.0.4)\n",
            "Requirement already satisfied: certifi>=2017.4.17 in /usr/local/lib/python3.7/dist-packages (from requests->scarches) (2021.5.30)\n",
            "Requirement already satisfied: idna<3,>=2.5 in /usr/local/lib/python3.7/dist-packages (from requests->scarches) (2.10)\n",
            "Requirement already satisfied: urllib3!=1.25.0,!=1.25.1,<1.26,>=1.21.1 in /usr/local/lib/python3.7/dist-packages (from requests->scarches) (1.24.3)\n",
            "Requirement already satisfied: stdlib-list in /usr/local/lib/python3.7/dist-packages (from sinfo->scanpy>=1.6.0->scarches) (0.8.0)\n",
            "Requirement already satisfied: numexpr>=2.5.2 in /usr/local/lib/python3.7/dist-packages (from tables->scanpy>=1.6.0->scarches) (2.7.3)\n",
            "Installing collected packages: scarches\n",
            "  Attempting uninstall: scarches\n",
            "    Found existing installation: scArches 0.3.5\n",
            "    Can't uninstall 'scArches'. No files were found to uninstall.\n",
            "  Running setup.py develop for scarches\n",
            "Successfully installed scarches-0.3.5\n",
            "Requirement already satisfied: scikit-misc in /root/.local/lib/python3.7/site-packages (0.1.4)\n",
            "Requirement already satisfied: numpy in /usr/local/lib/python3.7/dist-packages (from scikit-misc) (1.19.5)\n"
          ]
        }
      ]
    },
    {
      "cell_type": "markdown",
      "metadata": {
        "id": "c7C2FXp_ayET"
      },
      "source": [
        "### Load required modules "
      ]
    },
    {
      "cell_type": "code",
      "metadata": {
        "id": "fRVZTBS0atHC"
      },
      "source": [
        "import torch\n",
        "import warnings\n",
        "import numpy as np\n",
        "import scanpy as sc\n",
        "import scarches as sca\n",
        "import matplotlib.pyplot as plt"
      ],
      "execution_count": 2,
      "outputs": []
    },
    {
      "cell_type": "markdown",
      "metadata": {
        "id": "oXfDY8hPbAsP"
      },
      "source": [
        "### Set up working environment"
      ]
    },
    {
      "cell_type": "code",
      "metadata": {
        "id": "2ggj4QuFm9-P",
        "colab": {
          "base_uri": "https://localhost:8080/"
        },
        "outputId": "1cd1403c-2e4f-442b-dd7c-7b1232b7ca18"
      },
      "source": [
        "warnings.simplefilter(action = 'ignore')\n",
        "sc.settings.verbosity = 3\n",
        "sc.logging.print_versions()\n",
        "sc.settings.set_figure_params(dpi = 200, color_map = 'RdPu', dpi_save = 300, vector_friendly = True, format = 'svg')\n",
        "torch.set_printoptions(precision = 3, sci_mode = False, edgeitems = 7)"
      ],
      "execution_count": 3,
      "outputs": [
        {
          "output_type": "stream",
          "name": "stdout",
          "text": [
            "WARNING: If you miss a compact list, please try `print_header`!\n",
            "The `sinfo` package has changed name and is now called `session_info` to become more discoverable and self-explanatory. The `sinfo` PyPI package will be kept around to avoid breaking old installs and you can downgrade to 0.3.2 if you want to use it without seeing this message. For the latest features and bug fixes, please install `session_info` instead. The usage and defaults also changed slightly, so please review the latest README at https://gitlab.com/joelostblom/session_info.\n",
            "-----\n",
            "anndata     0.7.6\n",
            "scanpy      1.8.1\n",
            "sinfo       0.3.4\n",
            "-----\n",
            "PIL                         7.1.2\n",
            "astor                       0.8.1\n",
            "astunparse                  1.6.3\n",
            "attr                        21.2.0\n",
            "beta_ufunc                  NA\n",
            "binom_ufunc                 NA\n",
            "bottleneck                  1.3.2\n",
            "cached_property             1.5.2\n",
            "certifi                     2021.05.30\n",
            "cffi                        1.14.6\n",
            "chardet                     3.0.4\n",
            "cloudpickle                 1.3.0\n",
            "colorama                    0.4.4\n",
            "cycler                      0.10.0\n",
            "cython_runtime              NA\n",
            "dask                        2.12.0\n",
            "dateutil                    2.8.2\n",
            "debugpy                     1.0.0\n",
            "decorator                   4.4.2\n",
            "dill                        0.3.4\n",
            "google                      NA\n",
            "h5py                        3.1.0\n",
            "idna                        2.10\n",
            "ipykernel                   4.10.1\n",
            "ipython_genutils            0.2.0\n",
            "ipywidgets                  7.6.3\n",
            "joblib                      1.0.1\n",
            "kiwisolver                  1.3.1\n",
            "llvmlite                    0.34.0\n",
            "matplotlib                  3.4.3\n",
            "mpl_toolkits                NA\n",
            "natsort                     5.5.0\n",
            "nbinom_ufunc                NA\n",
            "numba                       0.51.2\n",
            "numexpr                     2.7.3\n",
            "numpy                       1.19.5\n",
            "packaging                   21.0\n",
            "pandas                      1.1.5\n",
            "pexpect                     4.8.0\n",
            "pickleshare                 0.7.5\n",
            "pkg_resources               NA\n",
            "portpicker                  NA\n",
            "prompt_toolkit              1.0.18\n",
            "psutil                      5.4.8\n",
            "ptyprocess                  0.7.0\n",
            "pydev_ipython               NA\n",
            "pydevconsole                NA\n",
            "pydevd                      2.0.0\n",
            "pydevd_concurrency_analyser NA\n",
            "pydevd_file_utils           NA\n",
            "pydevd_plugins              NA\n",
            "pydevd_tracing              NA\n",
            "pygments                    2.6.1\n",
            "pyparsing                   2.4.7\n",
            "pytz                        2018.9\n",
            "requests                    2.23.0\n",
            "rich                        NA\n",
            "scarches                    NA\n",
            "scipy                       1.7.1\n",
            "scvi                        0.8.1\n",
            "seaborn                     0.11.1\n",
            "simplegeneric               NA\n",
            "sitecustomize               NA\n",
            "six                         1.15.0\n",
            "sklearn                     0.24.2\n",
            "socks                       1.7.1\n",
            "sphinxcontrib               NA\n",
            "statsmodels                 0.10.2\n",
            "storemagic                  NA\n",
            "tables                      3.4.4\n",
            "tblib                       1.7.0\n",
            "threadpoolctl               2.2.0\n",
            "toolz                       0.11.1\n",
            "torch                       1.9.0+cu102\n",
            "tornado                     5.1.1\n",
            "tqdm                        4.62.0\n",
            "traitlets                   5.0.5\n",
            "typing_extensions           NA\n",
            "urllib3                     1.24.3\n",
            "wcwidth                     0.2.5\n",
            "yaml                        3.13\n",
            "zipp                        NA\n",
            "zmq                         22.2.1\n",
            "-----\n",
            "IPython             5.5.0\n",
            "jupyter_client      5.3.5\n",
            "jupyter_core        4.7.1\n",
            "notebook            5.3.1\n",
            "-----\n",
            "Python 3.7.11 (default, Jul  3 2021, 18:01:19) [GCC 7.5.0]\n",
            "Linux-5.4.104+-x86_64-with-Ubuntu-18.04-bionic\n",
            "4 logical CPU cores, x86_64\n",
            "-----\n",
            "Session information updated at 2021-09-09 12:24\n",
            "\n"
          ]
        }
      ]
    },
    {
      "cell_type": "markdown",
      "metadata": {
        "id": "uxmffElwnQ6L"
      },
      "source": [
        "- Check GPU type assigned by `colab`"
      ]
    },
    {
      "cell_type": "code",
      "metadata": {
        "id": "LyBmjkPGnQJZ",
        "colab": {
          "base_uri": "https://localhost:8080/"
        },
        "outputId": "23dec950-7f6a-416e-dbdd-4fc8879c385a"
      },
      "source": [
        "gpu_info = !nvidia-smi\n",
        "gpu_info = '\\n'.join(gpu_info)\n",
        "if gpu_info.find('failed') >= 0:\n",
        "  print('Select the Runtime > \"Change runtime type\" menu to enable a GPU accelerator, ')\n",
        "  print('and then re-execute this cell.')\n",
        "else:\n",
        "  print(gpu_info)"
      ],
      "execution_count": 4,
      "outputs": [
        {
          "output_type": "stream",
          "name": "stdout",
          "text": [
            "Thu Sep  9 12:24:09 2021       \n",
            "+-----------------------------------------------------------------------------+\n",
            "| NVIDIA-SMI 470.63.01    Driver Version: 460.32.03    CUDA Version: 11.2     |\n",
            "|-------------------------------+----------------------+----------------------+\n",
            "| GPU  Name        Persistence-M| Bus-Id        Disp.A | Volatile Uncorr. ECC |\n",
            "| Fan  Temp  Perf  Pwr:Usage/Cap|         Memory-Usage | GPU-Util  Compute M. |\n",
            "|                               |                      |               MIG M. |\n",
            "|===============================+======================+======================|\n",
            "|   0  Tesla T4            Off  | 00000000:00:04.0 Off |                    0 |\n",
            "| N/A   35C    P8     9W /  70W |      0MiB / 15109MiB |      0%      Default |\n",
            "|                               |                      |                  N/A |\n",
            "+-------------------------------+----------------------+----------------------+\n",
            "                                                                               \n",
            "+-----------------------------------------------------------------------------+\n",
            "| Processes:                                                                  |\n",
            "|  GPU   GI   CI        PID   Type   Process name                  GPU Memory |\n",
            "|        ID   ID                                                   Usage      |\n",
            "|=============================================================================|\n",
            "|  No running processes found                                                 |\n",
            "+-----------------------------------------------------------------------------+\n"
          ]
        }
      ]
    },
    {
      "cell_type": "markdown",
      "metadata": {
        "id": "4Rm0fJ4coppT"
      },
      "source": [
        "### Read in single nuclei data from `GDrive`\n",
        "\n",
        "- Data is anonymised as it only contains raw counts and non-identifiable covariates.  "
      ]
    },
    {
      "cell_type": "code",
      "metadata": {
        "id": "D_N6k3O9osjy",
        "colab": {
          "base_uri": "https://localhost:8080/"
        },
        "outputId": "7899cdc1-45a7-4054-e30e-208b165d9d6e"
      },
      "source": [
        "from google.colab import drive\n",
        "drive.mount('/content/gdrive')"
      ],
      "execution_count": 5,
      "outputs": [
        {
          "output_type": "stream",
          "name": "stdout",
          "text": [
            "Drive already mounted at /content/gdrive; to attempt to forcibly remount, call drive.mount(\"/content/gdrive\", force_remount=True).\n"
          ]
        }
      ]
    },
    {
      "cell_type": "markdown",
      "metadata": {
        "id": "7ovp4e1HP4r7"
      },
      "source": [
        "### Read LV object from the human heart cell atlas. \n",
        "\n",
        "- The data was downloaded from the Heart Cell Atlas project [website](https://www.heartcellatlas.org). \n",
        "- The left ventricle (LV) data was selected for this analysis to make it more lightweight and focused. "
      ]
    },
    {
      "cell_type": "code",
      "metadata": {
        "id": "ScNybilpoyb_",
        "colab": {
          "base_uri": "https://localhost:8080/"
        },
        "outputId": "6d1a59da-e928-4efc-fab7-e901be68ac83"
      },
      "source": [
        "heart_LV = sc.read_h5ad('/content/gdrive/My Drive/data/reference/single_cell/qtr_heart/heart_LV.10Xsn-iCell8.healthy-diseased.ctl210830.raw.h5ad')\n",
        "heart_LV"
      ],
      "execution_count": 6,
      "outputs": [
        {
          "output_type": "execute_result",
          "data": {
            "text/plain": [
              "AnnData object with n_obs × n_vars = 84748 × 15224\n",
              "    obs: 'NRP', 'age_group', 'cell_source', 'cell_type', 'donor', 'gender', 'n_counts', 'n_genes', 'percent_mito', 'percent_ribo', 'region', 'sample', 'scrublet_score', 'source', 'type', 'version', 'cell_states', 'Used', 'Cells_Nuclei', 'combined', 'Barcode', 'Type', 'Individual', 'Age', 'Gender', 'state'\n",
              "    var: 'gene_ids-Harvard-Nuclei-full-healthy', 'feature_types-Harvard-Nuclei-full-healthy', 'gene_ids-Sanger-Nuclei-full-healthy', 'feature_types-Sanger-Nuclei-full-healthy', 'gene_ids-Sanger-Cells-full-healthy', 'feature_types-Sanger-Cells-full-healthy', 'gene_ids-Sanger-CD45-full-healthy', 'feature_types-Sanger-CD45-full-healthy', 'n_cells-myeloid-healthy', 'n_counts-myeloid-healthy'\n",
              "    layers: 'counts'"
            ]
          },
          "metadata": {},
          "execution_count": 6
        }
      ]
    },
    {
      "cell_type": "code",
      "metadata": {
        "colab": {
          "base_uri": "https://localhost:8080/"
        },
        "id": "RSxcCZmGBp8B",
        "outputId": "476e0c30-540e-4e8d-9073-2084c63cec2c"
      },
      "source": [
        "healthy_LV = heart_LV[heart_LV.obs['state'].isin(['healthy'])]\n",
        "healthy_LV"
      ],
      "execution_count": 7,
      "outputs": [
        {
          "output_type": "execute_result",
          "data": {
            "text/plain": [
              "View of AnnData object with n_obs × n_vars = 82806 × 15224\n",
              "    obs: 'NRP', 'age_group', 'cell_source', 'cell_type', 'donor', 'gender', 'n_counts', 'n_genes', 'percent_mito', 'percent_ribo', 'region', 'sample', 'scrublet_score', 'source', 'type', 'version', 'cell_states', 'Used', 'Cells_Nuclei', 'combined', 'Barcode', 'Type', 'Individual', 'Age', 'Gender', 'state'\n",
              "    var: 'gene_ids-Harvard-Nuclei-full-healthy', 'feature_types-Harvard-Nuclei-full-healthy', 'gene_ids-Sanger-Nuclei-full-healthy', 'feature_types-Sanger-Nuclei-full-healthy', 'gene_ids-Sanger-Cells-full-healthy', 'feature_types-Sanger-Cells-full-healthy', 'gene_ids-Sanger-CD45-full-healthy', 'feature_types-Sanger-CD45-full-healthy', 'n_cells-myeloid-healthy', 'n_counts-myeloid-healthy'\n",
              "    layers: 'counts'"
            ]
          },
          "metadata": {},
          "execution_count": 7
        }
      ]
    },
    {
      "cell_type": "code",
      "metadata": {
        "colab": {
          "base_uri": "https://localhost:8080/"
        },
        "id": "gt9se5KDwS6u",
        "outputId": "5002d126-1e8d-498d-dffe-4ed214c36f66"
      },
      "source": [
        "healthy_LV.X"
      ],
      "execution_count": 8,
      "outputs": [
        {
          "output_type": "execute_result",
          "data": {
            "text/plain": [
              "<82806x15224 sparse matrix of type '<class 'numpy.float32'>'\n",
              "\twith 93697072 stored elements in Compressed Sparse Row format>"
            ]
          },
          "metadata": {},
          "execution_count": 8
        }
      ]
    },
    {
      "cell_type": "markdown",
      "metadata": {
        "id": "WAE1V_wTtvGo"
      },
      "source": [
        "### Add module genes\n",
        "\n",
        "- Here I have selected the C2 modules from the repo, and I have added the C3 Immune-related modules from GSEA. "
      ]
    },
    {
      "cell_type": "code",
      "metadata": {
        "id": "_gqE2bA0S6qK"
      },
      "source": [
        "path_gmt = '/content/gdrive/My Drive/data/reference/modules/'\n",
        "#sca.add_annotations(LV_nuclei, \n",
        "#                    [path_gmt + 'c2.cp.reactome.v4.0.symbols.gmt', path_gmt + 'c7.all.v7.4.symbols.gmt', path_gmt + 'c3.all.v7.4.symbols.gmt'], \n",
        "#                    min_genes = 20, clean = True)\n",
        "sca.add_annotations(healthy_LV, \n",
        "                    [path_gmt + 'c2.cp.reactome.v4.0.symbols.gmt', path_gmt + 'c3.all.v7.4.symbols.gmt'], \n",
        "                    min_genes = 20, clean = False)\n",
        "\n",
        "healthy_LV._inplace_subset_var(healthy_LV.varm['I'].sum(1) > 0)"
      ],
      "execution_count": 9,
      "outputs": []
    },
    {
      "cell_type": "markdown",
      "metadata": {
        "id": "ESj0dQVNuIL7"
      },
      "source": [
        "### Process module genes that match input\n",
        "- Although the processed data comes with 7K HVGs already labelled in the `adata` object, I selected 2K HVGs to make things faster. "
      ]
    },
    {
      "cell_type": "code",
      "metadata": {
        "id": "EeqrVtBtXNWU",
        "colab": {
          "base_uri": "https://localhost:8080/"
        },
        "outputId": "265224fb-8db2-47a5-a030-d2aca8b83b37"
      },
      "source": [
        "sc.pp.highly_variable_genes(\n",
        "    healthy_LV,\n",
        "    flavor = \"seurat_v3\",\n",
        "    n_top_genes = 3000,\n",
        "    layer = \"counts\",\n",
        "    batch_key = \"combined\",\n",
        "    subset = False,\n",
        "    span = 1\n",
        ")\n",
        "healthy_LV"
      ],
      "execution_count": 10,
      "outputs": [
        {
          "output_type": "stream",
          "name": "stdout",
          "text": [
            "If you pass `n_top_genes`, all cutoffs are ignored.\n",
            "extracting highly variable genes\n",
            "--> added\n",
            "    'highly_variable', boolean vector (adata.var)\n",
            "    'highly_variable_rank', float vector (adata.var)\n",
            "    'means', float vector (adata.var)\n",
            "    'variances', float vector (adata.var)\n",
            "    'variances_norm', float vector (adata.var)\n"
          ]
        },
        {
          "output_type": "execute_result",
          "data": {
            "text/plain": [
              "AnnData object with n_obs × n_vars = 82806 × 14784\n",
              "    obs: 'NRP', 'age_group', 'cell_source', 'cell_type', 'donor', 'gender', 'n_counts', 'n_genes', 'percent_mito', 'percent_ribo', 'region', 'sample', 'scrublet_score', 'source', 'type', 'version', 'cell_states', 'Used', 'Cells_Nuclei', 'combined', 'Barcode', 'Type', 'Individual', 'Age', 'Gender', 'state'\n",
              "    var: 'gene_ids-Harvard-Nuclei-full-healthy', 'feature_types-Harvard-Nuclei-full-healthy', 'gene_ids-Sanger-Nuclei-full-healthy', 'feature_types-Sanger-Nuclei-full-healthy', 'gene_ids-Sanger-Cells-full-healthy', 'feature_types-Sanger-Cells-full-healthy', 'gene_ids-Sanger-CD45-full-healthy', 'feature_types-Sanger-CD45-full-healthy', 'n_cells-myeloid-healthy', 'n_counts-myeloid-healthy', 'highly_variable', 'highly_variable_rank', 'means', 'variances', 'variances_norm', 'highly_variable_nbatches'\n",
              "    uns: 'terms', 'hvg'\n",
              "    varm: 'I'\n",
              "    layers: 'counts'"
            ]
          },
          "metadata": {},
          "execution_count": 10
        }
      ]
    },
    {
      "cell_type": "code",
      "metadata": {
        "id": "6qSB8-UruWJ6"
      },
      "source": [
        "select_terms = healthy_LV.varm['I'].sum(0) > 20\n",
        "healthy_LV.uns['terms'] = np.array(healthy_LV.uns['terms'])[select_terms].tolist()\n",
        "healthy_LV.varm['I'] = healthy_LV.varm['I'][:, select_terms]\n",
        "healthy_LV._inplace_subset_var(healthy_LV.varm['I'].sum(1) > 0)\n",
        "healthy_LV.X -= healthy_LV.X.mean(0)\n",
        "healthy_LV.X = healthy_LV.layers[\"counts\"].copy()"
      ],
      "execution_count": 11,
      "outputs": []
    },
    {
      "cell_type": "markdown",
      "metadata": {
        "id": "59zLxBj6vBVe"
      },
      "source": [
        "### Create TRVAE model and train it on reference dataset"
      ]
    },
    {
      "cell_type": "code",
      "metadata": {
        "id": "p1Iio7sKwQxL"
      },
      "source": [
        "healthy_LV.X = healthy_LV.X.toarray()"
      ],
      "execution_count": 12,
      "outputs": []
    },
    {
      "cell_type": "code",
      "metadata": {
        "id": "sj0ogCGEvEYw",
        "colab": {
          "base_uri": "https://localhost:8080/"
        },
        "outputId": "3db2770e-8d6d-44d9-8a07-d65de868fa90"
      },
      "source": [
        "intr_cvae = sca.models.TRVAE(\n",
        "    adata = healthy_LV,\n",
        "    condition_key = 'combined',\n",
        "    hidden_layer_sizes = [1000, 600, 600],\n",
        "    use_mmd = False,\n",
        "    recon_loss = 'nb',\n",
        "    mask = healthy_LV.varm['I'].T,\n",
        "    use_decoder_relu = False,\n",
        "    mmd_instead_kl = False\n",
        ")"
      ],
      "execution_count": 13,
      "outputs": [
        {
          "output_type": "stream",
          "name": "stdout",
          "text": [
            "\n",
            "INITIALIZING NEW NETWORK..............\n",
            "Encoder Architecture:\n",
            "\tInput Layer in, out and cond: 14784 1000 14\n",
            "\tHidden Layer 1 in/out: 1000 600\n",
            "\tHidden Layer 2 in/out: 600 600\n",
            "\tMean/Var Layer in/out: 600 3782\n",
            "Decoder Architecture:\n",
            "\tMasked linear layer in, out and cond:  3782 14784 14\n"
          ]
        }
      ]
    },
    {
      "cell_type": "markdown",
      "metadata": {
        "id": "VrgKH1sZDKOd"
      },
      "source": [
        "- Set up training parameters "
      ]
    },
    {
      "cell_type": "code",
      "metadata": {
        "id": "QlHd6IkRvOgi"
      },
      "source": [
        "ALPHA = 0.7"
      ],
      "execution_count": 14,
      "outputs": []
    },
    {
      "cell_type": "code",
      "metadata": {
        "id": "SzrFsTUCDPrO"
      },
      "source": [
        "OMEGA = torch.Tensor(healthy_LV.varm['I'].sum(0))\n",
        "OMEGA/=OMEGA.max()\n",
        "OMEGA*=10"
      ],
      "execution_count": 15,
      "outputs": []
    },
    {
      "cell_type": "code",
      "metadata": {
        "id": "l0Lk4tqWDRxA"
      },
      "source": [
        "OMEGA = None"
      ],
      "execution_count": 16,
      "outputs": []
    },
    {
      "cell_type": "code",
      "metadata": {
        "id": "xVuNMtHtDTvD"
      },
      "source": [
        "LR = 0.0001"
      ],
      "execution_count": 17,
      "outputs": []
    },
    {
      "cell_type": "code",
      "metadata": {
        "id": "e_NgpT5eDWwY"
      },
      "source": [
        "early_stopping_kwargs = {\n",
        "    \"early_stopping_metric\": \"val_unweighted_loss\",\n",
        "    \"threshold\": 0,\n",
        "    \"patience\": 20,\n",
        "    \"reduce_lr\": True,\n",
        "    \"lr_patience\": 13,\n",
        "    \"lr_factor\": 0.1,\n",
        "}"
      ],
      "execution_count": 18,
      "outputs": []
    },
    {
      "cell_type": "code",
      "metadata": {
        "id": "ZYB8WExkDXwl",
        "colab": {
          "base_uri": "https://localhost:8080/"
        },
        "outputId": "b848a709-2175-41ac-c6bf-91ecb2c9441e"
      },
      "source": [
        "intr_cvae.train(\n",
        "    n_epochs = 500, \n",
        "    alpha_epoch_anneal = 200, \n",
        "    alpha = ALPHA, \n",
        "    omega = OMEGA,\n",
        "    alpha_kl = 0.001,\n",
        "    weight_decay = 0., \n",
        "    early_stopping_kwargs = early_stopping_kwargs,\n",
        "    use_early_stopping = True,\n",
        "    seed = 1712,\n",
        "    print_n_deactive = False)"
      ],
      "execution_count": 19,
      "outputs": [
        {
          "output_type": "stream",
          "name": "stderr",
          "text": [
            "Trying to set attribute `.obs` of view, copying.\n",
            "Trying to set attribute `.obs` of view, copying.\n"
          ]
        },
        {
          "output_type": "stream",
          "name": "stdout",
          "text": [
            " |█████████-----------| 48.0%  - epoch_loss: 3275.96 - epoch_recon_loss: 3251.09 - epoch_kl_loss: 24867.86 - val_loss: 3357.44 - val_recon_loss: 3341.85 - val_kl_loss: 15589.79\n",
            "ADJUSTED LR\n",
            " |█████████-----------| 49.4%  - epoch_loss: 3271.55 - epoch_recon_loss: 3245.16 - epoch_kl_loss: 26384.85 - val_loss: 3347.72 - val_recon_loss: 3330.72 - val_kl_loss: 16998.86\n",
            "Stopping early: no improvement of more than 0 nats in 20 epochs\n",
            "If the early stopping criterion is too strong, please instantiate it with different parameters in the train method.\n",
            "Saving best state of network...\n",
            "Best State was in Epoch 225\n"
          ]
        }
      ]
    },
    {
      "cell_type": "markdown",
      "metadata": {
        "id": "Vgrpk21RDyPP"
      },
      "source": [
        "### Checl terms in results"
      ]
    },
    {
      "cell_type": "code",
      "metadata": {
        "id": "FaLCfGbNDr0I"
      },
      "source": [
        "inactive_idx = ~(intr_cvae.model.decoder.L0.expr_L.weight.data.norm(p = 2, dim = 0) > 0).cpu().numpy()"
      ],
      "execution_count": 20,
      "outputs": []
    },
    {
      "cell_type": "code",
      "metadata": {
        "id": "fnLl3BYyD0d8",
        "colab": {
          "base_uri": "https://localhost:8080/"
        },
        "outputId": "378ad3d7-a1b5-44c2-c2bd-41cf9359e265"
      },
      "source": [
        "print('Inactive terms:')\n",
        "[term for i, term in enumerate(healthy_LV.uns['terms']) if inactive_idx[i]]"
      ],
      "execution_count": 21,
      "outputs": [
        {
          "output_type": "stream",
          "name": "stdout",
          "text": [
            "Inactive terms:\n"
          ]
        },
        {
          "output_type": "execute_result",
          "data": {
            "text/plain": [
              "['REACTOME_ACTIVATION_OF_THE_PRE_REPLICATIVE_COMPLEX',\n",
              " 'REACTOME_G0_AND_EARLY_G1',\n",
              " 'REACTOME_SIGNALLING_TO_RAS',\n",
              " 'REACTOME_KERATAN_SULFATE_BIOSYNTHESIS',\n",
              " 'REACTOME_ERK_MAPK_TARGETS',\n",
              " 'REACTOME_GENERATION_OF_SECOND_MESSENGER_MOLECULES',\n",
              " 'REACTOME_CHEMOKINE_RECEPTORS_BIND_CHEMOKINES',\n",
              " 'REACTOME_GLUCAGON_TYPE_LIGAND_RECEPTORS',\n",
              " 'REACTOME_ELONGATION_ARREST_AND_RECOVERY',\n",
              " 'REACTOME_SIGNAL_AMPLIFICATION',\n",
              " 'REACTOME_METAL_ION_SLC_TRANSPORTERS',\n",
              " 'REACTOME_TRANSPORT_OF_VITAMINS_NUCLEOSIDES_AND_RELATED_MOLECULES',\n",
              " 'MIR296_3P',\n",
              " 'MIR1914_3P',\n",
              " 'MIR4423_5P',\n",
              " 'MIR6787_5P',\n",
              " 'XPO1_TARGET_GENES',\n",
              " 'STAT3_01']"
            ]
          },
          "metadata": {},
          "execution_count": 21
        }
      ]
    },
    {
      "cell_type": "markdown",
      "metadata": {
        "id": "HESz-8VGD6Fk"
      },
      "source": [
        "### Visualise manifold"
      ]
    },
    {
      "cell_type": "code",
      "metadata": {
        "id": "XupM7W8lD7vZ"
      },
      "source": [
        "MEAN = False\n",
        "healthy_LV.obsm['X_cvae'] = intr_cvae.get_latent(mean = MEAN)[:, ~inactive_idx]"
      ],
      "execution_count": null,
      "outputs": []
    },
    {
      "cell_type": "code",
      "metadata": {
        "id": "2rae-Ny0EHN0"
      },
      "source": [
        "sc.pp.neighbors(healthy_LV, use_rep = \"X_cvae\", n_neighbors = 20, metric = 'minkowski')\n",
        "sc.tl.umap(healthy_LV, min_dist = 0.3, spread = 2, random_state = 1712)\n",
        "sc.pl.umap(healthy_LV, frameon = False, color = ['cell_source', 'donor', 'cell_states', 'state'], size = 0.6, legend_fontsize = 5)"
      ],
      "execution_count": null,
      "outputs": []
    },
    {
      "cell_type": "markdown",
      "metadata": {
        "id": "xrRBK2DuFXre"
      },
      "source": [
        "### Train on damaged heart data"
      ]
    },
    {
      "cell_type": "code",
      "metadata": {
        "id": "ngzXxS-Wx-Zb"
      },
      "source": [
        "damaged_LV = heart_LV[heart_LV.obs['state'].isin(['damaged'])]\n",
        "damaged_LV"
      ],
      "execution_count": null,
      "outputs": []
    },
    {
      "cell_type": "code",
      "metadata": {
        "id": "XcQKNajVnXVQ"
      },
      "source": [
        "damaged_LV = damaged_LV[:, healthy_LV.var_names]\n",
        "damaged_LV = damaged_LV.copy()\n",
        "damaged_LV"
      ],
      "execution_count": null,
      "outputs": []
    },
    {
      "cell_type": "code",
      "metadata": {
        "id": "Jly2XIKXyIg_"
      },
      "source": [
        "damaged_LV.X = damaged_LV.X.toarray()"
      ],
      "execution_count": null,
      "outputs": []
    },
    {
      "cell_type": "code",
      "metadata": {
        "id": "DCk-V4RgnVL9"
      },
      "source": [
        "q_intr_cvae = sca.models.TRVAE.load_query_data(damaged_LV, intr_cvae)"
      ],
      "execution_count": null,
      "outputs": []
    },
    {
      "cell_type": "code",
      "metadata": {
        "id": "5bDoS-iAFq2w"
      },
      "source": [
        "q_intr_cvae.train(n_epochs = 500, alpha_epoch_anneal = 200, weight_decay = 0., alpha_kl = 0.1, seed = 1786)"
      ],
      "execution_count": null,
      "outputs": []
    },
    {
      "cell_type": "markdown",
      "metadata": {
        "id": "B3iVYAnPF3Jf"
      },
      "source": [
        "### Visualise manifold for `damaged_LV`"
      ]
    },
    {
      "cell_type": "code",
      "metadata": {
        "id": "r4kJDH_Tyo77"
      },
      "source": [
        "q_intr_cvae.adata"
      ],
      "execution_count": null,
      "outputs": []
    },
    {
      "cell_type": "code",
      "metadata": {
        "id": "gvEesYdHzAvF"
      },
      "source": [
        "damaged_LV"
      ],
      "execution_count": null,
      "outputs": []
    },
    {
      "cell_type": "code",
      "metadata": {
        "id": "W9YcME0sF7xK"
      },
      "source": [
        "damaged_LV.obsm['X_cvae'] = q_intr_cvae.get_latent(mean = MEAN)[:, ~inactive_idx]"
      ],
      "execution_count": null,
      "outputs": []
    },
    {
      "cell_type": "code",
      "metadata": {
        "id": "ugTs3Dm3GVhW"
      },
      "source": [
        "sc.pp.neighbors(damaged_LV, use_rep = \"X_cvae\", n_neighbors = 20, metric = 'minkowski')\n",
        "sc.tl.umap(damaged_LV, min_dist = 0.3, spread = 2, random_state = 1712)\n",
        "sc.pl.umap(damaged_LV, frameon = False, color = ['cell_source', 'donor', 'cell_states'], size = 0.6, legend_fontsize = 5)"
      ],
      "execution_count": null,
      "outputs": []
    },
    {
      "cell_type": "markdown",
      "metadata": {
        "id": "y9HIj4pAGp4h"
      },
      "source": [
        "### Subset terms of interest"
      ]
    },
    {
      "cell_type": "code",
      "metadata": {
        "id": "gtmb6hCvGr2E"
      },
      "source": [
        "terms = damaged_LV.uns['terms']\n",
        "terms"
      ],
      "execution_count": null,
      "outputs": []
    },
    {
      "cell_type": "code",
      "metadata": {
        "id": "dLOz-Oc1G1ti"
      },
      "source": [
        "idx = [terms.index(term) for term in ['CYTOKINE_SIGNALING_IN_IMMUNE_S', 'INNATE_IMMUNE_SYSTEM', 'SIGNALING_BY_NOTCH']]\n",
        "latents = q_intr_cvae.get_latent(mean = MEAN)[:, idx]"
      ],
      "execution_count": null,
      "outputs": []
    },
    {
      "cell_type": "markdown",
      "metadata": {
        "id": "NmDUbcGwG5IZ"
      },
      "source": [
        "### Explore terms in diseased data"
      ]
    },
    {
      "cell_type": "code",
      "metadata": {
        "id": "S9xod_1yG7CB"
      },
      "source": [
        "damaged_LV.obs['CYTOKINE_SIGNALING_IN_IMMUNE_S'] = latents[:, 0]\n",
        "damaged_LV.obs['INNATE_IMMUNE_SYSTEM'] = latents[:, 1]\n",
        "damaged_LV.obs['SIGNALING_BY_NOTCH'] = latents[:, 2]"
      ],
      "execution_count": null,
      "outputs": []
    },
    {
      "cell_type": "code",
      "metadata": {
        "id": "zmurwL_zG_0c"
      },
      "source": [
        "sc.pl.scatter(damaged_LV, x = 'INNATE_IMMUNE_SYSTEM', y = 'SIGNALING_BY_NOTCH', color = 'cell_source', size = 22)"
      ],
      "execution_count": null,
      "outputs": []
    },
    {
      "cell_type": "code",
      "metadata": {
        "id": "RDQ5s2WnHB7E"
      },
      "source": [
        "latents = intr_cvae.get_latent(mean = MEAN)[:, idx]"
      ],
      "execution_count": null,
      "outputs": []
    },
    {
      "cell_type": "code",
      "metadata": {
        "id": "qtnDhulgI2u_"
      },
      "source": [
        "damaged_LV.obs['INNATE_IMMUNE_SYSTEM'] = latents[:, 0]\n",
        "damaged_LV.obs['SIGNALING_BY_NOTCH'] = latents[:, 1]"
      ],
      "execution_count": null,
      "outputs": []
    },
    {
      "cell_type": "code",
      "metadata": {
        "id": "ulVs_VQ9Ji6d"
      },
      "source": [
        "sc.pl.scatter(damaged_LV, x = 'INNATE_IMMUNE_SYSTEM', y = 'SIGNALING_BY_NOTCH', color='cell_source', size = 22)"
      ],
      "execution_count": null,
      "outputs": []
    },
    {
      "cell_type": "markdown",
      "metadata": {
        "id": "pJsu1QHVKZd8"
      },
      "source": [
        "### Display joint representation"
      ]
    },
    {
      "cell_type": "code",
      "metadata": {
        "id": "XQj0s1B4KbSb"
      },
      "source": [
        "heart = sc.AnnData.concatenate(healthy_LV, damaged_LV, batch_key = 'batch_join')\n",
        "heart"
      ],
      "execution_count": null,
      "outputs": []
    },
    {
      "cell_type": "code",
      "metadata": {
        "id": "wFWHSF-0KlqW"
      },
      "source": [
        "heart.obsm['X_cvae'] = q_intr_cvae.get_latent(heart.X, heart.obs['combined'].tolist(), mean = MEAN)[:, ~inactive_idx]\n",
        "sc.pp.neighbors(heart, use_rep = \"X_cvae\", n_neighbors = 20, metric = 'minkowski')\n",
        "sc.tl.umap(heart, min_dist = 0.3, spread = 2, random_state = 1712)\n",
        "sc.pl.umap(heart, frameon = False, color = ['cell_source', 'donor', 'cell_states'], size = 0.6, legend_fontsize = 5)"
      ],
      "execution_count": null,
      "outputs": []
    },
    {
      "cell_type": "code",
      "metadata": {
        "id": "tWxRqVGnp9Cd"
      },
      "source": [
        ""
      ],
      "execution_count": null,
      "outputs": []
    },
    {
      "cell_type": "code",
      "metadata": {
        "id": "y0pBcPu8y-j3"
      },
      "source": [
        ""
      ],
      "execution_count": null,
      "outputs": []
    }
  ]
}