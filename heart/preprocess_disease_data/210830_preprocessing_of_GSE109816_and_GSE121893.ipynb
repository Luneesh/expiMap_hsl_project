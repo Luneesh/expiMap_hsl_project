{
 "cells": [
  {
   "cell_type": "markdown",
   "source": [
    "### Notebook for the processing of single cell data from the damaged human heart.\n",
    "\n",
    "- **Developed by**: Carlos Talavera-López Ph.D\n",
    "- **Institute of AI for Health, HelmholtzZentrum münchen**\n",
    "- v210830"
   ],
   "metadata": {}
  },
  {
   "cell_type": "markdown",
   "source": [
    "- Data was downloaded from NCBI GEO using the `GSE109816` and `GSE121893` accession numbers.\n",
    "- The publication is linked [here](https://www.nature.com/articles/s41556-019-0446-7)."
   ],
   "metadata": {}
  },
  {
   "cell_type": "markdown",
   "source": [
    "### Load required modules"
   ],
   "metadata": {}
  },
  {
   "cell_type": "code",
   "execution_count": 1,
   "source": [
    "import anndata\n",
    "import numpy as np\n",
    "import pandas as pd\n",
    "import scanpy as sc"
   ],
   "outputs": [],
   "metadata": {}
  },
  {
   "cell_type": "markdown",
   "source": [
    "### Set up working environment"
   ],
   "metadata": {}
  },
  {
   "cell_type": "code",
   "execution_count": 2,
   "source": [
    "sc.settings.verbosity = 3\n",
    "sc.logging.print_versions()\n",
    "sc.settings.set_figure_params(dpi = 200, color_map = 'RdPu', dpi_save = 300, vector_friendly = True, format = 'svg')"
   ],
   "outputs": [
    {
     "output_type": "stream",
     "name": "stdout",
     "text": [
      "WARNING: If you miss a compact list, please try `print_header`!\n",
      "The `sinfo` package has changed name and is now called `session_info` to become more discoverable and self-explanatory. The `sinfo` PyPI package will be kept around to avoid breaking old installs and you can downgrade to 0.3.2 if you want to use it without seeing this message. For the latest features and bug fixes, please install `session_info` instead. The usage and defaults also changed slightly, so please review the latest README at https://gitlab.com/joelostblom/session_info.\n",
      "-----\n",
      "anndata     0.7.6\n",
      "scanpy      1.8.1\n",
      "sinfo       0.3.4\n",
      "-----\n",
      "PIL                 8.2.0\n",
      "anyio               NA\n",
      "appnope             0.1.2\n",
      "attr                20.3.0\n",
      "babel               2.9.0\n",
      "backcall            0.2.0\n",
      "bottleneck          1.3.2\n",
      "brotli              NA\n",
      "cairo               1.20.0\n",
      "certifi             2020.12.05\n",
      "cffi                1.14.5\n",
      "chardet             4.0.0\n",
      "cloudpickle         1.6.0\n",
      "colorama            0.4.4\n",
      "cycler              0.10.0\n",
      "cython_runtime      NA\n",
      "cytoolz             0.11.0\n",
      "dask                2021.04.0\n",
      "dateutil            2.8.1\n",
      "decorator           4.4.2\n",
      "fsspec              2021.05.0\n",
      "google              NA\n",
      "h5py                3.2.1\n",
      "idna                2.10\n",
      "igraph              0.9.6\n",
      "ipykernel           5.3.4\n",
      "ipython_genutils    0.2.0\n",
      "jedi                0.17.2\n",
      "jinja2              2.11.3\n",
      "joblib              1.0.1\n",
      "json5               NA\n",
      "jsonschema          3.2.0\n",
      "jupyter_server      1.4.1\n",
      "jupyterlab_server   2.4.0\n",
      "kiwisolver          1.3.1\n",
      "leidenalg           0.7.0\n",
      "llvmlite            0.36.0\n",
      "louvain             0.7.0\n",
      "markupsafe          1.1.1\n",
      "matplotlib          3.4.2\n",
      "mpl_toolkits        NA\n",
      "natsort             7.1.1\n",
      "nbclassic           NA\n",
      "nbformat            5.1.3\n",
      "numba               0.53.1\n",
      "numexpr             2.7.3\n",
      "numpy               1.20.3\n",
      "packaging           20.9\n",
      "pandas              1.2.4\n",
      "parso               0.7.0\n",
      "pexpect             4.8.0\n",
      "pickleshare         0.7.5\n",
      "pkg_resources       NA\n",
      "prometheus_client   NA\n",
      "prompt_toolkit      3.0.17\n",
      "psutil              5.8.0\n",
      "ptyprocess          0.7.0\n",
      "pvectorc            NA\n",
      "pygments            2.8.1\n",
      "pyparsing           2.4.7\n",
      "pyrsistent          NA\n",
      "pytz                2021.1\n",
      "requests            2.25.1\n",
      "scipy               1.6.3\n",
      "send2trash          NA\n",
      "setuptools_scm      NA\n",
      "six                 1.16.0\n",
      "sklearn             0.24.2\n",
      "sniffio             1.2.0\n",
      "socks               1.7.1\n",
      "sphinxcontrib       NA\n",
      "storemagic          NA\n",
      "tables              3.6.1\n",
      "tblib               1.7.0\n",
      "texttable           1.6.4\n",
      "tlz                 0.11.0\n",
      "toolz               0.11.1\n",
      "tornado             6.1\n",
      "traitlets           5.0.5\n",
      "typing_extensions   NA\n",
      "urllib3             1.26.4\n",
      "wcwidth             0.2.5\n",
      "yaml                5.4.1\n",
      "zmq                 20.0.0\n",
      "zope                NA\n",
      "-----\n",
      "IPython             7.22.0\n",
      "jupyter_client      6.1.12\n",
      "jupyter_core        4.7.1\n",
      "jupyterlab          3.0.14\n",
      "notebook            6.3.0\n",
      "-----\n",
      "Python 3.8.8 (default, Apr 13 2021, 12:59:45) [Clang 10.0.0 ]\n",
      "macOS-10.15.7-x86_64-i386-64bit\n",
      "4 logical CPU cores, i386\n",
      "-----\n",
      "Session information updated at 2021-09-12 12:52\n",
      "\n"
     ]
    }
   ],
   "metadata": {}
  },
  {
   "cell_type": "markdown",
   "source": [
    "### Read in datasets"
   ],
   "metadata": {}
  },
  {
   "cell_type": "markdown",
   "source": [
    "- **GSE109816**"
   ],
   "metadata": {}
  },
  {
   "cell_type": "code",
   "execution_count": 5,
   "source": [
    "GSE109816_raw = sc.read_csv('/Volumes/TIGERII/My Drive/INBOX/heart/GSE109816/GSE109816_normal_heart_umi_matrix.csv.gz').T\n",
    "GSE109816_raw"
   ],
   "outputs": [],
   "metadata": {}
  },
  {
   "cell_type": "code",
   "execution_count": null,
   "source": [
    "GSE109816_raw.obs_names"
   ],
   "outputs": [
    {
     "output_type": "execute_result",
     "data": {
      "text/plain": [
       "Index(['SC_92563_0_69', 'SC_92563_0_17', 'SC_92563_0_23', 'SC_92563_0_12',\n",
       "       'SC_92563_0_18', 'SC_92563_0_19', 'SC_92563_0_20', 'SC_92563_0_14',\n",
       "       'SC_92563_1_45', 'SC_92563_1_46',\n",
       "       ...\n",
       "       'SC_97502_70_62', 'SC_97502_71_55', 'SC_97502_70_2', 'SC_97502_24_52',\n",
       "       'SC_97502_34_40', 'SC_97502_32_60', 'SC_97502_66_39', 'SC_97502_30_13',\n",
       "       'SC_97502_32_1', 'SC_97502_30_69'],\n",
       "      dtype='object', length=9994)"
      ]
     },
     "metadata": {},
     "execution_count": 4
    }
   ],
   "metadata": {}
  },
  {
   "cell_type": "code",
   "execution_count": null,
   "source": [
    "GSE109816_raw.var_names"
   ],
   "outputs": [
    {
     "output_type": "execute_result",
     "data": {
      "text/plain": [
       "Index(['TSPAN6', 'TNMD', 'DPM1', 'SCYL3', 'C1orf112', 'FGR', 'CFH', 'FUCA2',\n",
       "       'GCLC', 'NFYA',\n",
       "       ...\n",
       "       'RP5-1182A14.7', 'RP11-539L10.5', 'RP11-490B18.8', 'RP11-555E9.1',\n",
       "       'RP11-753C18.12', 'AC126544.4', 'RP11-151A10.3', 'LLNLR-222A1.1',\n",
       "       'AC008993.3', 'RP13-147D17.3'],\n",
       "      dtype='object', length=54750)"
      ]
     },
     "metadata": {},
     "execution_count": 5
    }
   ],
   "metadata": {}
  },
  {
   "cell_type": "markdown",
   "source": [
    "- Read in metadata for `GSE109816`"
   ],
   "metadata": {}
  },
  {
   "cell_type": "code",
   "execution_count": null,
   "source": [
    "GSE109816_meta = pd.read_csv('/Volumes/TIGERII/My Drive/INBOX/heart/GSE109816//GSE109816_normal_heart_cell_info.txt.gz', sep = '\\t', index_col = 0)\n",
    "GSE109816_meta.head()"
   ],
   "outputs": [
    {
     "output_type": "execute_result",
     "data": {
      "text/html": [
       "<div>\n",
       "<style scoped>\n",
       "    .dataframe tbody tr th:only-of-type {\n",
       "        vertical-align: middle;\n",
       "    }\n",
       "\n",
       "    .dataframe tbody tr th {\n",
       "        vertical-align: top;\n",
       "    }\n",
       "\n",
       "    .dataframe thead th {\n",
       "        text-align: right;\n",
       "    }\n",
       "</style>\n",
       "<table border=\"1\" class=\"dataframe\">\n",
       "  <thead>\n",
       "    <tr style=\"text-align: right;\">\n",
       "      <th></th>\n",
       "      <th>Barcode</th>\n",
       "      <th>Type</th>\n",
       "      <th>Individual</th>\n",
       "      <th>Age</th>\n",
       "      <th>Gender</th>\n",
       "      <th>Dispense.Order</th>\n",
       "      <th>X384.Well.Plate.Location</th>\n",
       "      <th>Chip.Row.ID</th>\n",
       "      <th>Chip.Column.ID</th>\n",
       "      <th>Image.ID</th>\n",
       "      <th>...</th>\n",
       "      <th>Chimera</th>\n",
       "      <th>Duplicate</th>\n",
       "      <th>FragementLength</th>\n",
       "      <th>MappingQuality</th>\n",
       "      <th>MultiMapping</th>\n",
       "      <th>NoFeatures</th>\n",
       "      <th>Nonjunction</th>\n",
       "      <th>Secondary</th>\n",
       "      <th>Unmapped</th>\n",
       "      <th>mito.perc</th>\n",
       "    </tr>\n",
       "    <tr>\n",
       "      <th>ID</th>\n",
       "      <th></th>\n",
       "      <th></th>\n",
       "      <th></th>\n",
       "      <th></th>\n",
       "      <th></th>\n",
       "      <th></th>\n",
       "      <th></th>\n",
       "      <th></th>\n",
       "      <th></th>\n",
       "      <th></th>\n",
       "      <th></th>\n",
       "      <th></th>\n",
       "      <th></th>\n",
       "      <th></th>\n",
       "      <th></th>\n",
       "      <th></th>\n",
       "      <th></th>\n",
       "      <th></th>\n",
       "      <th></th>\n",
       "      <th></th>\n",
       "      <th></th>\n",
       "    </tr>\n",
       "  </thead>\n",
       "  <tbody>\n",
       "    <tr>\n",
       "      <th>SC_92563_0_69</th>\n",
       "      <td>AACCAACCAAG</td>\n",
       "      <td>N_LA_NCM</td>\n",
       "      <td>N6</td>\n",
       "      <td>21</td>\n",
       "      <td>M</td>\n",
       "      <td>2</td>\n",
       "      <td>A2</td>\n",
       "      <td>0</td>\n",
       "      <td>69</td>\n",
       "      <td>True</td>\n",
       "      <td>...</td>\n",
       "      <td>0</td>\n",
       "      <td>0</td>\n",
       "      <td>0</td>\n",
       "      <td>0</td>\n",
       "      <td>0</td>\n",
       "      <td>159</td>\n",
       "      <td>0</td>\n",
       "      <td>0</td>\n",
       "      <td>0</td>\n",
       "      <td>0.35</td>\n",
       "    </tr>\n",
       "    <tr>\n",
       "      <th>SC_92563_0_17</th>\n",
       "      <td>AACCAAGATTC</td>\n",
       "      <td>N_LA_NCM</td>\n",
       "      <td>N6</td>\n",
       "      <td>21</td>\n",
       "      <td>M</td>\n",
       "      <td>2</td>\n",
       "      <td>A2</td>\n",
       "      <td>0</td>\n",
       "      <td>17</td>\n",
       "      <td>True</td>\n",
       "      <td>...</td>\n",
       "      <td>0</td>\n",
       "      <td>0</td>\n",
       "      <td>0</td>\n",
       "      <td>0</td>\n",
       "      <td>0</td>\n",
       "      <td>47715</td>\n",
       "      <td>0</td>\n",
       "      <td>0</td>\n",
       "      <td>0</td>\n",
       "      <td>0.19</td>\n",
       "    </tr>\n",
       "    <tr>\n",
       "      <th>SC_92563_0_23</th>\n",
       "      <td>AACCAAGCAGT</td>\n",
       "      <td>N_LA_NCM</td>\n",
       "      <td>N6</td>\n",
       "      <td>21</td>\n",
       "      <td>M</td>\n",
       "      <td>2</td>\n",
       "      <td>A2</td>\n",
       "      <td>0</td>\n",
       "      <td>23</td>\n",
       "      <td>True</td>\n",
       "      <td>...</td>\n",
       "      <td>0</td>\n",
       "      <td>0</td>\n",
       "      <td>0</td>\n",
       "      <td>0</td>\n",
       "      <td>0</td>\n",
       "      <td>10959</td>\n",
       "      <td>0</td>\n",
       "      <td>0</td>\n",
       "      <td>0</td>\n",
       "      <td>0.39</td>\n",
       "    </tr>\n",
       "    <tr>\n",
       "      <th>SC_92563_0_12</th>\n",
       "      <td>AACCAAGCCTG</td>\n",
       "      <td>N_LA_NCM</td>\n",
       "      <td>N6</td>\n",
       "      <td>21</td>\n",
       "      <td>M</td>\n",
       "      <td>2</td>\n",
       "      <td>A2</td>\n",
       "      <td>0</td>\n",
       "      <td>12</td>\n",
       "      <td>True</td>\n",
       "      <td>...</td>\n",
       "      <td>0</td>\n",
       "      <td>0</td>\n",
       "      <td>0</td>\n",
       "      <td>0</td>\n",
       "      <td>0</td>\n",
       "      <td>47522</td>\n",
       "      <td>0</td>\n",
       "      <td>0</td>\n",
       "      <td>0</td>\n",
       "      <td>0.19</td>\n",
       "    </tr>\n",
       "    <tr>\n",
       "      <th>SC_92563_0_18</th>\n",
       "      <td>AACCAAGCTAA</td>\n",
       "      <td>N_LA_NCM</td>\n",
       "      <td>N6</td>\n",
       "      <td>21</td>\n",
       "      <td>M</td>\n",
       "      <td>2</td>\n",
       "      <td>A2</td>\n",
       "      <td>0</td>\n",
       "      <td>18</td>\n",
       "      <td>True</td>\n",
       "      <td>...</td>\n",
       "      <td>0</td>\n",
       "      <td>0</td>\n",
       "      <td>0</td>\n",
       "      <td>0</td>\n",
       "      <td>0</td>\n",
       "      <td>5225</td>\n",
       "      <td>0</td>\n",
       "      <td>0</td>\n",
       "      <td>0</td>\n",
       "      <td>0.12</td>\n",
       "    </tr>\n",
       "  </tbody>\n",
       "</table>\n",
       "<p>5 rows × 33 columns</p>\n",
       "</div>"
      ],
      "text/plain": [
       "                   Barcode      Type Individual  Age Gender  Dispense.Order  \\\n",
       "ID                                                                            \n",
       "SC_92563_0_69  AACCAACCAAG  N_LA_NCM         N6   21      M               2   \n",
       "SC_92563_0_17  AACCAAGATTC  N_LA_NCM         N6   21      M               2   \n",
       "SC_92563_0_23  AACCAAGCAGT  N_LA_NCM         N6   21      M               2   \n",
       "SC_92563_0_12  AACCAAGCCTG  N_LA_NCM         N6   21      M               2   \n",
       "SC_92563_0_18  AACCAAGCTAA  N_LA_NCM         N6   21      M               2   \n",
       "\n",
       "              X384.Well.Plate.Location  Chip.Row.ID  Chip.Column.ID  Image.ID  \\\n",
       "ID                                                                              \n",
       "SC_92563_0_69                       A2            0              69      True   \n",
       "SC_92563_0_17                       A2            0              17      True   \n",
       "SC_92563_0_23                       A2            0              23      True   \n",
       "SC_92563_0_12                       A2            0              12      True   \n",
       "SC_92563_0_18                       A2            0              18      True   \n",
       "\n",
       "               ...  Chimera  Duplicate  FragementLength  MappingQuality  \\\n",
       "ID             ...                                                        \n",
       "SC_92563_0_69  ...        0          0                0               0   \n",
       "SC_92563_0_17  ...        0          0                0               0   \n",
       "SC_92563_0_23  ...        0          0                0               0   \n",
       "SC_92563_0_12  ...        0          0                0               0   \n",
       "SC_92563_0_18  ...        0          0                0               0   \n",
       "\n",
       "               MultiMapping  NoFeatures  Nonjunction  Secondary  Unmapped  \\\n",
       "ID                                                                          \n",
       "SC_92563_0_69             0         159            0          0         0   \n",
       "SC_92563_0_17             0       47715            0          0         0   \n",
       "SC_92563_0_23             0       10959            0          0         0   \n",
       "SC_92563_0_12             0       47522            0          0         0   \n",
       "SC_92563_0_18             0        5225            0          0         0   \n",
       "\n",
       "               mito.perc  \n",
       "ID                        \n",
       "SC_92563_0_69       0.35  \n",
       "SC_92563_0_17       0.19  \n",
       "SC_92563_0_23       0.39  \n",
       "SC_92563_0_12       0.19  \n",
       "SC_92563_0_18       0.12  \n",
       "\n",
       "[5 rows x 33 columns]"
      ]
     },
     "metadata": {},
     "execution_count": 6
    }
   ],
   "metadata": {}
  },
  {
   "cell_type": "code",
   "execution_count": null,
   "source": [
    "GSE109816_meta.shape"
   ],
   "outputs": [
    {
     "output_type": "execute_result",
     "data": {
      "text/plain": [
       "(9994, 33)"
      ]
     },
     "metadata": {},
     "execution_count": 7
    }
   ],
   "metadata": {}
  },
  {
   "cell_type": "markdown",
   "source": [
    "- Add metadata to `anndata` object "
   ],
   "metadata": {}
  },
  {
   "cell_type": "code",
   "execution_count": null,
   "source": [
    "GSE109816_raw.obs = GSE109816_meta.copy()\n",
    "GSE109816_raw"
   ],
   "outputs": [
    {
     "output_type": "execute_result",
     "data": {
      "text/plain": [
       "AnnData object with n_obs × n_vars = 9994 × 54750\n",
       "    obs: 'Barcode', 'Type', 'Individual', 'Age', 'Gender', 'Dispense.Order', 'X384.Well.Plate.Location', 'Chip.Row.ID', 'Chip.Column.ID', 'Image.ID', 'Barcode.Read.Pairs', 'Distinct.UMIs', 'ERCC.Read.Pairs', 'Trimmed.Read.Pairs', 'NoContam.Read.Pairs', 'Mitochondria.Alignments', 'Mitochondria.Read.Pairs', 'Total.Barcode.Alignments', 'Distinct.Genes.w..Alignments', 'Distinct.Gene.UMI.Combos', 'Aligned', 'Assigned', 'Ambiguity', 'Chimera', 'Duplicate', 'FragementLength', 'MappingQuality', 'MultiMapping', 'NoFeatures', 'Nonjunction', 'Secondary', 'Unmapped', 'mito.perc'"
      ]
     },
     "metadata": {},
     "execution_count": 8
    }
   ],
   "metadata": {}
  },
  {
   "cell_type": "code",
   "execution_count": 9,
   "source": [
    "GSE109816_raw.obs['Type'] = GSE109816_raw.obs['Type'].astype('category')\n",
    "GSE109816_raw.obs['Type'].cat.categories"
   ],
   "outputs": [
    {
     "output_type": "execute_result",
     "data": {
      "text/plain": [
       "Index(['N_LA_CM', 'N_LA_NCM', 'N_LV_CM', 'N_LV_NCM'], dtype='object')"
      ]
     },
     "metadata": {},
     "execution_count": 9
    }
   ],
   "metadata": {}
  },
  {
   "cell_type": "code",
   "execution_count": 10,
   "source": [
    "GSE109816_raw"
   ],
   "outputs": [
    {
     "output_type": "execute_result",
     "data": {
      "text/plain": [
       "AnnData object with n_obs × n_vars = 9994 × 54750\n",
       "    obs: 'Barcode', 'Type', 'Individual', 'Age', 'Gender', 'Dispense.Order', 'X384.Well.Plate.Location', 'Chip.Row.ID', 'Chip.Column.ID', 'Image.ID', 'Barcode.Read.Pairs', 'Distinct.UMIs', 'ERCC.Read.Pairs', 'Trimmed.Read.Pairs', 'NoContam.Read.Pairs', 'Mitochondria.Alignments', 'Mitochondria.Read.Pairs', 'Total.Barcode.Alignments', 'Distinct.Genes.w..Alignments', 'Distinct.Gene.UMI.Combos', 'Aligned', 'Assigned', 'Ambiguity', 'Chimera', 'Duplicate', 'FragementLength', 'MappingQuality', 'MultiMapping', 'NoFeatures', 'Nonjunction', 'Secondary', 'Unmapped', 'mito.perc'"
      ]
     },
     "metadata": {},
     "execution_count": 10
    }
   ],
   "metadata": {}
  },
  {
   "cell_type": "markdown",
   "source": [
    "- **GSE121893**"
   ],
   "metadata": {}
  },
  {
   "cell_type": "code",
   "execution_count": 11,
   "source": [
    "GSE121893_raw = sc.read_csv('/Users/carlos.lopez/INBOX/heart/GSE121893/GSE121893_human_heart_sc_umi.csv.gz').T\n",
    "GSE121893_raw"
   ],
   "outputs": [
    {
     "output_type": "execute_result",
     "data": {
      "text/plain": [
       "AnnData object with n_obs × n_vars = 4933 × 25742"
      ]
     },
     "metadata": {},
     "execution_count": 11
    }
   ],
   "metadata": {}
  },
  {
   "cell_type": "code",
   "execution_count": 12,
   "source": [
    "GSE121893_raw.obs_names"
   ],
   "outputs": [
    {
     "output_type": "execute_result",
     "data": {
      "text/plain": [
       "Index(['SC_96279_36_11', 'SC_96279_69_44', 'SC_96279_31_1', 'SC_96279_69_27',\n",
       "       'SC_96279_36_65', 'SC_96279_29_29', 'SC_96279_65_35', 'SC_96279_69_0',\n",
       "       'SC_96279_62_3', 'SC_96279_29_23',\n",
       "       ...\n",
       "       'SC_105235_37_21', 'SC_105235_38_15', 'SC_105235_37_66',\n",
       "       'SC_105235_37_16', 'SC_105235_6_12', 'SC_105235_33_4',\n",
       "       'SC_105235_39_66', 'SC_105235_4_18', 'SC_105235_37_40',\n",
       "       'SC_105235_38_40'],\n",
       "      dtype='object', length=4933)"
      ]
     },
     "metadata": {},
     "execution_count": 12
    }
   ],
   "metadata": {}
  },
  {
   "cell_type": "code",
   "execution_count": 13,
   "source": [
    "GSE121893_raw.var_names"
   ],
   "outputs": [
    {
     "output_type": "execute_result",
     "data": {
      "text/plain": [
       "Index(['TSPAN6', 'DPM1', 'SCYL3', 'FGR', 'CFH', 'FUCA2', 'GCLC', 'NFYA',\n",
       "       'STPG1', 'NIPAL3',\n",
       "       ...\n",
       "       'AC093642.6', 'RNF5P1', 'RP11-221N13.3', 'MEG8', 'CTD-2636A23.2',\n",
       "       'WI2-87327B8.1', 'RP11-385F5.5', 'U47924.32', 'RP4-633H17.2',\n",
       "       'RP11-367J11.2'],\n",
       "      dtype='object', length=25742)"
      ]
     },
     "metadata": {},
     "execution_count": 13
    }
   ],
   "metadata": {}
  },
  {
   "cell_type": "markdown",
   "source": [
    "- Read in metadata for `GSE121893`"
   ],
   "metadata": {}
  },
  {
   "cell_type": "code",
   "execution_count": 14,
   "source": [
    "GSE121893_meta = pd.read_csv('/Users/carlos.lopez/INBOX/heart/GSE121893/GSE121893_all_heart_cell_cluster_info.txt.gz', sep = '\\t', index_col = 0)\n",
    "GSE121893_meta.head()"
   ],
   "outputs": [
    {
     "output_type": "execute_result",
     "data": {
      "text/html": [
       "<div>\n",
       "<style scoped>\n",
       "    .dataframe tbody tr th:only-of-type {\n",
       "        vertical-align: middle;\n",
       "    }\n",
       "\n",
       "    .dataframe tbody tr th {\n",
       "        vertical-align: top;\n",
       "    }\n",
       "\n",
       "    .dataframe thead th {\n",
       "        text-align: right;\n",
       "    }\n",
       "</style>\n",
       "<table border=\"1\" class=\"dataframe\">\n",
       "  <thead>\n",
       "    <tr style=\"text-align: right;\">\n",
       "      <th></th>\n",
       "      <th>nGene</th>\n",
       "      <th>nUMI</th>\n",
       "      <th>condition</th>\n",
       "      <th>group</th>\n",
       "      <th>sample</th>\n",
       "      <th>ident</th>\n",
       "      <th>Age</th>\n",
       "    </tr>\n",
       "    <tr>\n",
       "      <th>ID</th>\n",
       "      <th></th>\n",
       "      <th></th>\n",
       "      <th></th>\n",
       "      <th></th>\n",
       "      <th></th>\n",
       "      <th></th>\n",
       "      <th></th>\n",
       "    </tr>\n",
       "  </thead>\n",
       "  <tbody>\n",
       "    <tr>\n",
       "      <th>SC_92563_0_17</th>\n",
       "      <td>2004</td>\n",
       "      <td>35539</td>\n",
       "      <td>N_LA</td>\n",
       "      <td>NCM</td>\n",
       "      <td>N6</td>\n",
       "      <td>EC1</td>\n",
       "      <td>21</td>\n",
       "    </tr>\n",
       "    <tr>\n",
       "      <th>SC_92563_0_19</th>\n",
       "      <td>1455</td>\n",
       "      <td>16525</td>\n",
       "      <td>N_LA</td>\n",
       "      <td>NCM</td>\n",
       "      <td>N6</td>\n",
       "      <td>EC4</td>\n",
       "      <td>21</td>\n",
       "    </tr>\n",
       "    <tr>\n",
       "      <th>SC_92563_0_14</th>\n",
       "      <td>2050</td>\n",
       "      <td>32416</td>\n",
       "      <td>N_LA</td>\n",
       "      <td>NCM</td>\n",
       "      <td>N6</td>\n",
       "      <td>EC7</td>\n",
       "      <td>21</td>\n",
       "    </tr>\n",
       "    <tr>\n",
       "      <th>SC_92563_2_64</th>\n",
       "      <td>919</td>\n",
       "      <td>9016</td>\n",
       "      <td>N_LA</td>\n",
       "      <td>NCM</td>\n",
       "      <td>N6</td>\n",
       "      <td>EC2</td>\n",
       "      <td>21</td>\n",
       "    </tr>\n",
       "    <tr>\n",
       "      <th>SC_92563_2_70</th>\n",
       "      <td>742</td>\n",
       "      <td>7513</td>\n",
       "      <td>N_LA</td>\n",
       "      <td>NCM</td>\n",
       "      <td>N6</td>\n",
       "      <td>EC7</td>\n",
       "      <td>21</td>\n",
       "    </tr>\n",
       "  </tbody>\n",
       "</table>\n",
       "</div>"
      ],
      "text/plain": [
       "               nGene   nUMI condition group sample ident  Age\n",
       "ID                                                           \n",
       "SC_92563_0_17   2004  35539      N_LA   NCM     N6   EC1   21\n",
       "SC_92563_0_19   1455  16525      N_LA   NCM     N6   EC4   21\n",
       "SC_92563_0_14   2050  32416      N_LA   NCM     N6   EC7   21\n",
       "SC_92563_2_64    919   9016      N_LA   NCM     N6   EC2   21\n",
       "SC_92563_2_70    742   7513      N_LA   NCM     N6   EC7   21"
      ]
     },
     "metadata": {},
     "execution_count": 14
    }
   ],
   "metadata": {}
  },
  {
   "cell_type": "code",
   "execution_count": 15,
   "source": [
    "GSE121893_meta.shape"
   ],
   "outputs": [
    {
     "output_type": "execute_result",
     "data": {
      "text/plain": [
       "(11377, 7)"
      ]
     },
     "metadata": {},
     "execution_count": 15
    }
   ],
   "metadata": {}
  },
  {
   "cell_type": "code",
   "execution_count": 16,
   "source": [
    "GSE121893_meta = GSE121893_meta.loc[GSE121893_raw.obs_names]\n",
    "GSE121893_meta.shape"
   ],
   "outputs": [
    {
     "output_type": "execute_result",
     "data": {
      "text/plain": [
       "(4933, 7)"
      ]
     },
     "metadata": {},
     "execution_count": 16
    }
   ],
   "metadata": {}
  },
  {
   "cell_type": "code",
   "execution_count": 17,
   "source": [
    "GSE121893_raw.obs = GSE121893_meta.copy()\n",
    "GSE121893_raw"
   ],
   "outputs": [
    {
     "output_type": "execute_result",
     "data": {
      "text/plain": [
       "AnnData object with n_obs × n_vars = 4933 × 25742\n",
       "    obs: 'nGene', 'nUMI', 'condition', 'group', 'sample', 'ident', 'Age'"
      ]
     },
     "metadata": {},
     "execution_count": 17
    }
   ],
   "metadata": {}
  },
  {
   "cell_type": "markdown",
   "source": [
    "### Export objects"
   ],
   "metadata": {}
  },
  {
   "cell_type": "code",
   "execution_count": 18,
   "source": [
    "GSE109816_raw.write('/Users/carlos.lopez/INBOX/heart/GSE109816/GSE109816.iCell8.ctl210830.raw.h5ad')"
   ],
   "outputs": [
    {
     "output_type": "stream",
     "name": "stderr",
     "text": [
      "... storing 'Barcode' as categorical\n",
      "... storing 'Individual' as categorical\n",
      "... storing 'Gender' as categorical\n",
      "... storing 'X384.Well.Plate.Location' as categorical\n"
     ]
    }
   ],
   "metadata": {}
  },
  {
   "cell_type": "code",
   "execution_count": 19,
   "source": [
    "GSE121893_raw.write('/Users/carlos.lopez/INBOX/heart/GSE121893/GSE121893.iCell8.ctl210830.raw.h5ad')"
   ],
   "outputs": [
    {
     "output_type": "stream",
     "name": "stderr",
     "text": [
      "... storing 'condition' as categorical\n",
      "... storing 'group' as categorical\n",
      "... storing 'sample' as categorical\n",
      "... storing 'ident' as categorical\n"
     ]
    }
   ],
   "metadata": {}
  },
  {
   "cell_type": "code",
   "execution_count": null,
   "source": [],
   "outputs": [],
   "metadata": {}
  }
 ],
 "metadata": {
  "kernelspec": {
   "name": "python3",
   "display_name": "Python 3.8.8 64-bit ('base': conda)"
  },
  "language_info": {
   "codemirror_mode": {
    "name": "ipython",
    "version": 3
   },
   "file_extension": ".py",
   "mimetype": "text/x-python",
   "name": "python",
   "nbconvert_exporter": "python",
   "pygments_lexer": "ipython3",
   "version": "3.8.8"
  },
  "interpreter": {
   "hash": "af77123b29e7e536c0e6efa7a99f26d9767cf4eacffb5a1e426395c556eabc9e"
  }
 },
 "nbformat": 4,
 "nbformat_minor": 4
}