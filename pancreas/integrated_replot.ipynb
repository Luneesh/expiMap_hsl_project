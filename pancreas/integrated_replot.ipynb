{
 "cells": [
  {
   "cell_type": "markdown",
   "metadata": {},
   "source": [
    "# Replot\n",
    "Regenerate UMAP plots from integrated data."
   ]
  },
  {
   "cell_type": "code",
   "execution_count": 1,
   "metadata": {},
   "outputs": [],
   "source": [
    "import scanpy as sc\n",
    "import numpy as np\n",
    "from matplotlib import rcParams\n",
    "from pathlib import Path"
   ]
  },
  {
   "cell_type": "code",
   "execution_count": 2,
   "metadata": {},
   "outputs": [],
   "source": [
    "path_data='/storage/groups/ml01/workspace/karin.hrovatin/data/pancreas/scRNA/qtr/integrated/gsCellType_query/querySTZ_rmNodElimination/mo/'\n",
    "path_save=path_data+'figures/'\n",
    "params='_a_p0.0r1.0-akl_0.1-aklq_0.1-ra_0-uh_0-b_study_sample-sd_False-dp_0.01-lr_0.001-hls_830.830.830-es_1-nh_10000-ne_500-dll_softplus-ule_False-mg_200-mig_3-aea_100-aeaq_None-wd_0.0'"
   ]
  },
  {
   "cell_type": "code",
   "execution_count": 6,
   "metadata": {},
   "outputs": [
    {
     "name": "stderr",
     "output_type": "stream",
     "text": [
      "WARNING: Your filename has more than two extensions: ['.0r1', '.0-akl_0', '.1-aklq_0', '.1-ra_0-uh_0-b_study_sample-sd_False-dp_0', '.01-lr_0', '.001-hls_830', '.830', '.830-es_1-nh_10000-ne_500-dll_softplus-ule_False-mg_200-mig_3-aea_100-aeaq_None-wd_0', '.0', '.h5ad'].\n",
      "Only considering the two last: ['.0', '.h5ad'].\n",
      "WARNING: Your filename has more than two extensions: ['.0r1', '.0-akl_0', '.1-aklq_0', '.1-ra_0-uh_0-b_study_sample-sd_False-dp_0', '.01-lr_0', '.001-hls_830', '.830', '.830-es_1-nh_10000-ne_500-dll_softplus-ule_False-mg_200-mig_3-aea_100-aeaq_None-wd_0', '.0', '.h5ad'].\n",
      "Only considering the two last: ['.0', '.h5ad'].\n"
     ]
    }
   ],
   "source": [
    "adata=sc.read(path_data+'adata_integration_RefQueryTraining'+params+'.h5ad')"
   ]
  },
  {
   "cell_type": "code",
   "execution_count": 4,
   "metadata": {},
   "outputs": [],
   "source": [
    "def plot_integrated(adata_temp,name,color=['study','ref_query', 'cell_type']):\n",
    "    random_indices=np.random.permutation(list(range(adata_temp.shape[0])))\n",
    "    sc._settings.ScanpyConfig.figdir=Path(path_save)\n",
    "    rcParams['figure.figsize']= (8,8)\n",
    "    sc.pl.umap(adata_temp[random_indices,:],color=color,\n",
    "               wspace=0.6,\n",
    "               #ncols=1,hspace=0.8,\n",
    "               size=10,save='latent_'+name+'.png',show=False ,frameon=False,sort_order=False )"
   ]
  },
  {
   "cell_type": "markdown",
   "metadata": {},
   "source": [
    "## Ref+Query model with Ref+Query training cells"
   ]
  },
  {
   "cell_type": "code",
   "execution_count": 7,
   "metadata": {},
   "outputs": [
    {
     "name": "stderr",
     "output_type": "stream",
     "text": [
      "Trying to set attribute `.uns` of view, copying.\n",
      "WARNING: saving figure to file /storage/groups/ml01/workspace/karin.hrovatin/data/pancreas/scRNA/qtr/integrated/gsCellType_query/querySTZ_rmNodElimination/mo/figures/umaplatent_refqueryTraining_X_qtr.png\n",
      "Trying to set attribute `.uns` of view, copying.\n",
      "WARNING: saving figure to file /storage/groups/ml01/workspace/karin.hrovatin/data/pancreas/scRNA/qtr/integrated/gsCellType_query/querySTZ_rmNodElimination/mo/figures/umaplatent_refqueryTraining_X_scvi.png\n",
      "Trying to set attribute `.uns` of view, copying.\n",
      "WARNING: saving figure to file /storage/groups/ml01/workspace/karin.hrovatin/data/pancreas/scRNA/qtr/integrated/gsCellType_query/querySTZ_rmNodElimination/mo/figures/umaplatent_refqueryTraining_X_seurat.png\n",
      "Trying to set attribute `.uns` of view, copying.\n",
      "WARNING: saving figure to file /storage/groups/ml01/workspace/karin.hrovatin/data/pancreas/scRNA/qtr/integrated/gsCellType_query/querySTZ_rmNodElimination/mo/figures/umaplatent_refqueryTraining_X_symphony.png\n"
     ]
    }
   ],
   "source": [
    "for emb in ['X_qtr', 'X_scvi','X_seurat','X_symphony']:\n",
    "    # Compute neighbours and UMAP\n",
    "    sc.pp.neighbors(adata, use_rep=emb)\n",
    "    sc.tl.umap(adata)\n",
    "    # Plot integrated embedding\n",
    "    plot_integrated(adata,name='refqueryTraining_'+emb)"
   ]
  }
 ],
 "metadata": {
  "kernelspec": {
   "display_name": "Python rpy2_3",
   "language": "python",
   "name": "rpy2_3"
  },
  "language_info": {
   "codemirror_mode": {
    "name": "ipython",
    "version": 3
   },
   "file_extension": ".py",
   "mimetype": "text/x-python",
   "name": "python",
   "nbconvert_exporter": "python",
   "pygments_lexer": "ipython3",
   "version": "3.8.5"
  }
 },
 "nbformat": 4,
 "nbformat_minor": 4
}
