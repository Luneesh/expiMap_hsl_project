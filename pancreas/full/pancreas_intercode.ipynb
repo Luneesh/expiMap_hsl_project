{
 "cells": [
  {
   "cell_type": "code",
   "execution_count": 1,
   "id": "interracial-vintage",
   "metadata": {},
   "outputs": [],
   "source": [
    "import scanpy as sc\n",
    "import pandas as pd\n",
    "import numpy as np\n",
    "import torch\n",
    "import scarches as sca"
   ]
  },
  {
   "cell_type": "code",
   "execution_count": 2,
   "id": "delayed-birthday",
   "metadata": {},
   "outputs": [],
   "source": [
    "adata = sc.read('publ_pancreas.h5ad') # counts in .X"
   ]
  },
  {
   "cell_type": "code",
   "execution_count": 3,
   "id": "oriented-thanksgiving",
   "metadata": {},
   "outputs": [
    {
     "data": {
      "text/plain": [
       "NOD_elimination    54329\n",
       "STZ                49545\n",
       "embryo             37561\n",
       "spikein_drug       33331\n",
       "NOD                 2690\n",
       "Name: study, dtype: int64"
      ]
     },
     "execution_count": 3,
     "metadata": {},
     "output_type": "execute_result"
    }
   ],
   "source": [
    "adata.obs.study.value_counts()"
   ]
  },
  {
   "cell_type": "code",
   "execution_count": 4,
   "id": "pleasant-detective",
   "metadata": {},
   "outputs": [],
   "source": [
    "to_query = \"spikein_drug\" # some random study just to put something\n",
    "mask_query = adata.obs.study == to_query\n",
    "query = adata[mask_query].copy()\n",
    "ref = adata[~mask_query].copy()"
   ]
  },
  {
   "cell_type": "code",
   "execution_count": 5,
   "id": "aging-nickname",
   "metadata": {},
   "outputs": [],
   "source": [
    "del adata"
   ]
  },
  {
   "cell_type": "code",
   "execution_count": 8,
   "id": "orange-shame",
   "metadata": {},
   "outputs": [],
   "source": [
    "df = pd.read_excel('marker_genes_collection.xlsx', sheet_name='Collection table')\n",
    "markers = {k: [g.upper() for g in v] for k, v in df.groupby(\"cell_type\")[\"gene_name\"]}"
   ]
  },
  {
   "cell_type": "code",
   "execution_count": 9,
   "id": "speaking-happiness",
   "metadata": {},
   "outputs": [],
   "source": [
    "ref.var_names = ref.var['gene_symbol_original_matched'].astype(str)"
   ]
  },
  {
   "cell_type": "code",
   "execution_count": 10,
   "id": "unauthorized-slope",
   "metadata": {},
   "outputs": [],
   "source": [
    "sca.add_annotations(ref, 'c2.cp.reactome.v4.0.symbols.gmt', min_genes=20, max_genes=200)"
   ]
  },
  {
   "cell_type": "code",
   "execution_count": 11,
   "id": "plain-uncle",
   "metadata": {},
   "outputs": [],
   "source": [
    "# add marker genes to annotations\n",
    "var_names = ref.var_names.str.upper()\n",
    "\n",
    "I = [[int(gene in ct) for ct in markers.values()] for gene in var_names]\n",
    "I = np.asarray(I, dtype='int32')"
   ]
  },
  {
   "cell_type": "code",
   "execution_count": 12,
   "id": "federal-music",
   "metadata": {},
   "outputs": [
    {
     "data": {
      "text/plain": [
       "array([ 1,  1,  0,  1,  1,  0,  0,  0,  1,  0,  0,  2,  3,  0,  1,  0,  0,\n",
       "        0,  4,  5,  1,  0,  4,  0,  0,  5,  1,  1,  2, 13,  5,  1,  4, 12,\n",
       "        9,  0, 11,  1,  3,  0, 30,  3])"
      ]
     },
     "execution_count": 12,
     "metadata": {},
     "output_type": "execute_result"
    }
   ],
   "source": [
    "I.sum(0)"
   ]
  },
  {
   "cell_type": "code",
   "execution_count": 13,
   "id": "behind-manitoba",
   "metadata": {},
   "outputs": [],
   "source": [
    "nz = I.sum(0) > 0\n",
    "ref.uns['terms'] += [ct for i, ct in enumerate(markers.keys()) if nz[i]]\n",
    "I = I[:, nz]"
   ]
  },
  {
   "cell_type": "code",
   "execution_count": 14,
   "id": "remarkable-original",
   "metadata": {},
   "outputs": [
    {
     "data": {
      "text/plain": [
       "array([ 1,  1,  1,  1,  1,  2,  3,  1,  4,  5,  1,  4,  5,  1,  1,  2, 13,\n",
       "        5,  1,  4, 12,  9, 11,  1,  3, 30,  3])"
      ]
     },
     "execution_count": 14,
     "metadata": {},
     "output_type": "execute_result"
    }
   ],
   "source": [
    "I.sum(0)"
   ]
  },
  {
   "cell_type": "code",
   "execution_count": 15,
   "id": "norman-attitude",
   "metadata": {},
   "outputs": [],
   "source": [
    "ref.varm['I'] = np.concatenate((ref.varm['I'], I), axis=1)"
   ]
  },
  {
   "cell_type": "code",
   "execution_count": null,
   "id": "alone-headline",
   "metadata": {},
   "outputs": [],
   "source": []
  },
  {
   "cell_type": "code",
   "execution_count": 16,
   "id": "demanding-length",
   "metadata": {},
   "outputs": [],
   "source": [
    "# rm genes not in annotations\n",
    "ref._inplace_subset_var(ref.varm['I'].sum(1)>0)"
   ]
  },
  {
   "cell_type": "code",
   "execution_count": 17,
   "id": "stuffed-receiver",
   "metadata": {},
   "outputs": [
    {
     "data": {
      "text/plain": [
       "(144125, 3631)"
      ]
     },
     "execution_count": 17,
     "metadata": {},
     "output_type": "execute_result"
    }
   ],
   "source": [
    "ref.shape"
   ]
  },
  {
   "cell_type": "code",
   "execution_count": 38,
   "id": "southern-netscape",
   "metadata": {},
   "outputs": [
    {
     "name": "stdout",
     "output_type": "stream",
     "text": [
      "\n",
      "INITIALIZING NEW NETWORK..............\n",
      "Encoder Architecture:\n",
      "\tInput Layer in, out and cond: 3631 1000 4\n",
      "\tHidden Layer 1 in/out: 1000 600\n",
      "\tHidden Layer 2 in/out: 600 600\n",
      "\tMean/Var Layer in/out: 600 341\n",
      "Decoder Architecture:\n",
      "\tMasked linear layer in, out and cond:  341 3631 4\n"
     ]
    }
   ],
   "source": [
    "intr_cvae = sca.models.TRVAE(\n",
    "    adata=ref,\n",
    "    condition_key='study',\n",
    "    hidden_layer_sizes=[1000, 600, 600],\n",
    "    use_mmd=False,\n",
    "    recon_loss='nb',\n",
    "    mask=ref.varm['I'].T,\n",
    "    use_decoder_relu=False,\n",
    "    mmd_instead_kl=False\n",
    ")"
   ]
  },
  {
   "cell_type": "code",
   "execution_count": 39,
   "id": "royal-corrections",
   "metadata": {},
   "outputs": [],
   "source": [
    "#OMEGA = ref.varm['I'].sum(0).astype('float32')\n",
    "#OMEGA /= OMEGA.max()\n",
    "#OMEGA *= 10\n",
    "#OMEGA = torch.tensor(OMEGA)"
   ]
  },
  {
   "cell_type": "code",
   "execution_count": null,
   "id": "dense-fourth",
   "metadata": {},
   "outputs": [],
   "source": [
    "# train reference\n",
    "\n",
    "ALPHA = 0.8\n",
    "OMEGA = None\n",
    "\n",
    "early_stopping_kwargs = {\n",
    "    \"early_stopping_metric\": \"val_unweighted_loss\",\n",
    "    \"threshold\": 0,\n",
    "    \"patience\": 20,\n",
    "    \"reduce_lr\": True,\n",
    "    \"lr_patience\": 13,\n",
    "    \"lr_factor\": 0.1,\n",
    "}\n",
    "\n",
    "intr_cvae.train(\n",
    "    n_epochs=500, \n",
    "    alpha_epoch_anneal=200, \n",
    "    alpha=ALPHA, \n",
    "    omega=OMEGA,\n",
    "    alpha_kl=0.003,\n",
    "    weight_decay=0., \n",
    "    early_stopping_kwargs=early_stopping_kwargs,\n",
    "    use_early_stopping=True,\n",
    "    seed=2021\n",
    ")"
   ]
  },
  {
   "cell_type": "code",
   "execution_count": null,
   "id": "industrial-toner",
   "metadata": {},
   "outputs": [],
   "source": []
  },
  {
   "cell_type": "code",
   "execution_count": null,
   "id": "corporate-disposition",
   "metadata": {},
   "outputs": [],
   "source": [
    "q_intr_cvae = sca.models.TRVAE.load_query_data(query, intr_cvae)"
   ]
  },
  {
   "cell_type": "code",
   "execution_count": null,
   "id": "italic-search",
   "metadata": {},
   "outputs": [],
   "source": [
    "q_intr_cvae.train(n_epochs=500, alpha_epoch_anneal=200, weight_decay=0., alpha_kl=0.003, seed=2021)"
   ]
  }
 ],
 "metadata": {
  "kernelspec": {
   "display_name": "Python 3",
   "language": "python",
   "name": "python3"
  },
  "language_info": {
   "codemirror_mode": {
    "name": "ipython",
    "version": 3
   },
   "file_extension": ".py",
   "mimetype": "text/x-python",
   "name": "python",
   "nbconvert_exporter": "python",
   "pygments_lexer": "ipython3",
   "version": "3.8.8"
  }
 },
 "nbformat": 4,
 "nbformat_minor": 5
}
