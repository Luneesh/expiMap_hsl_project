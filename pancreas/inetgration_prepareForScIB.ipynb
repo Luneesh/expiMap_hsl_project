{
 "cells": [
  {
   "cell_type": "markdown",
   "metadata": {},
   "source": [
    "Combine embeddings from different integration methods into single adata instance apropritae for scIB (data preparation for integration is in integration_gsPanglaoReactome.ipynb)."
   ]
  },
  {
   "cell_type": "code",
   "execution_count": 1,
   "metadata": {},
   "outputs": [],
   "source": [
    "import scanpy as sc\n",
    "import pandas as pd"
   ]
  },
  {
   "cell_type": "code",
   "execution_count": 2,
   "metadata": {},
   "outputs": [],
   "source": [
    "path_data='/storage/groups/ml01/workspace/karin.hrovatin/data/pancreas/scRNA/qtr/integrated/gsCellType_query/model/'"
   ]
  },
  {
   "cell_type": "code",
   "execution_count": 3,
   "metadata": {},
   "outputs": [],
   "source": [
    "# Data for integration (raw counts)\n",
    "adata=sc.read(path_data+'adata_integration_RefQueryTraining.h5ad')"
   ]
  },
  {
   "cell_type": "markdown",
   "metadata": {},
   "source": [
    "Normalise"
   ]
  },
  {
   "cell_type": "code",
   "execution_count": 4,
   "metadata": {},
   "outputs": [],
   "source": [
    "# Normalised data\n",
    "adata_norm=adata.copy()\n",
    "sc.pp.normalize_total(adata_norm, target_sum=1e6, exclude_highly_expressed=True)\n",
    "sc.pp.log1p(adata_norm)"
   ]
  },
  {
   "cell_type": "markdown",
   "metadata": {},
   "source": [
    "Add integrated embeddings"
   ]
  },
  {
   "cell_type": "code",
   "execution_count": 9,
   "metadata": {},
   "outputs": [],
   "source": [
    "# Integrated embeddings from Sergey's data\n",
    "adata_int=sc.read(\n",
    "    '/storage/groups/ml01/workspace/sergei.rybakov/adata_integration_RefQuery.h5ad')\n",
    "for emb in ['X_scvi','X_seurat','X_symphony']:\n",
    "    adata_norm.obsm[emb]=adata_int.obsm[emb]"
   ]
  },
  {
   "cell_type": "code",
   "execution_count": 10,
   "metadata": {},
   "outputs": [],
   "source": [
    "# Integrated embedding from qtr\n",
    "path_qtr='/storage/groups/ml01/workspace/karin.hrovatin/data/pancreas/scRNA/qtr/integrated/gsCellType_query/model/'\n",
    "file_qtr='latent_refqueryTraining_alpha_0.1-alpha_kl_60.0-remove_ambient_0-use_hvg_0-batch_study_sample-subset_data_False-data_proportion_1.0-learning_rate_1e-05-hidden_layer_sizes_2048.2048.2048-early_stopping_1-n_hvg_10000-n_epochs_2000.tsv'\n",
    "adata_norm.obsm['X_qtr']=pd.read_table(path_qtr+file_qtr,index_col=0\n",
    "                                      ).loc[adata_norm.obs_names,:].values"
   ]
  },
  {
   "cell_type": "code",
   "execution_count": 12,
   "metadata": {},
   "outputs": [
    {
     "data": {
      "text/plain": [
       "AnnData object with n_obs × n_vars = 133914 × 6918\n",
       "    obs: 'leiden_r1_normscl', 'design', 'age', 'sex', 'sample', 'n_counts', 'n_genes', 'mt_frac', 'study', 'study_sample', 'cell_type', 'ref_query'\n",
       "    var: 'gene_symbol'\n",
       "    uns: 'log1p'\n",
       "    obsm: 'X_umap_normscl', 'X_scvi', 'X_seurat', 'X_symphony', 'X_qtr'"
      ]
     },
     "execution_count": 12,
     "metadata": {},
     "output_type": "execute_result"
    }
   ],
   "source": [
    "adata_norm"
   ]
  },
  {
   "cell_type": "markdown",
   "metadata": {},
   "source": [
    "Save"
   ]
  },
  {
   "cell_type": "code",
   "execution_count": 15,
   "metadata": {},
   "outputs": [],
   "source": [
    "# Save for scIB\n",
    "adata_norm.write(path_data+'adata_norm_integrated_RefQueryTraining.h5ad')"
   ]
  }
 ],
 "metadata": {
  "kernelspec": {
   "display_name": "Python rpy2_3",
   "language": "python",
   "name": "rpy2_3"
  },
  "language_info": {
   "codemirror_mode": {
    "name": "ipython",
    "version": 3
   },
   "file_extension": ".py",
   "mimetype": "text/x-python",
   "name": "python",
   "nbconvert_exporter": "python",
   "pygments_lexer": "ipython3",
   "version": "3.8.5"
  }
 },
 "nbformat": 4,
 "nbformat_minor": 4
}
