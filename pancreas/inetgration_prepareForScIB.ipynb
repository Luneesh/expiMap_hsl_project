{
 "cells": [
  {
   "cell_type": "markdown",
   "metadata": {},
   "source": [
    "Combine embeddings from different integration methods into single adata instance apropritae for scIB (data preparation for integration is in integration_gsPanglaoReactome.ipynb)."
   ]
  },
  {
   "cell_type": "code",
   "execution_count": 14,
   "metadata": {},
   "outputs": [],
   "source": [
    "import scanpy as sc\n",
    "import pandas as pd"
   ]
  },
  {
   "cell_type": "code",
   "execution_count": 1,
   "metadata": {},
   "outputs": [],
   "source": [
    "path_data='/storage/groups/ml01/workspace/karin.hrovatin/data/pancreas/scRNA/qtr/integrated/gsCellType_query/querySTZ_rmNodElimination/mo/'\n",
    "params='_a_p0.0r1.0-akl_0.1-aklq_0.1-ra_0-uh_0-b_study_sample-sd_False-dp_0.01-lr_0.001-hls_830.830.830-es_1-nh_10000-ne_500-dll_softplus-ule_False-mg_200-mig_3-aea_100-aeaq_None-wd_0.0'"
   ]
  },
  {
   "cell_type": "code",
   "execution_count": 16,
   "metadata": {},
   "outputs": [
    {
     "name": "stderr",
     "output_type": "stream",
     "text": [
      "WARNING: Your filename has more than two extensions: ['.0r1', '.0-akl_0', '.1-aklq_0', '.1-ra_0-uh_0-b_study_sample-sd_False-dp_0', '.01-lr_0', '.001-hls_830', '.830', '.830-es_1-nh_10000-ne_500-dll_softplus-ule_False-mg_200-mig_3-aea_100-aeaq_None-wd_0', '.0', '.h5ad'].\n",
      "Only considering the two last: ['.0', '.h5ad'].\n",
      "WARNING: Your filename has more than two extensions: ['.0r1', '.0-akl_0', '.1-aklq_0', '.1-ra_0-uh_0-b_study_sample-sd_False-dp_0', '.01-lr_0', '.001-hls_830', '.830', '.830-es_1-nh_10000-ne_500-dll_softplus-ule_False-mg_200-mig_3-aea_100-aeaq_None-wd_0', '.0', '.h5ad'].\n",
      "Only considering the two last: ['.0', '.h5ad'].\n"
     ]
    }
   ],
   "source": [
    "# Data for integration (raw counts)\n",
    "adata=sc.read(path_data+'adata_integration_RefQueryTraining'+params+'.h5ad')"
   ]
  },
  {
   "cell_type": "code",
   "execution_count": 17,
   "metadata": {},
   "outputs": [
    {
     "data": {
      "text/plain": [
       "AnnData object with n_obs × n_vars = 82077 × 6572\n",
       "    obs: 'leiden_r1_normscl', 'design', 'age', 'sex', 'sample', 'n_counts', 'n_genes', 'mt_frac', 'study', 'study_sample', 'cell_type', 'ref_query'\n",
       "    var: 'gene_symbol'\n",
       "    obsm: 'X_umap_normscl'"
      ]
     },
     "execution_count": 17,
     "metadata": {},
     "output_type": "execute_result"
    }
   ],
   "source": [
    "adata"
   ]
  },
  {
   "cell_type": "markdown",
   "metadata": {},
   "source": [
    "Remove non-healthy query as it is not expected to integrate"
   ]
  },
  {
   "cell_type": "code",
   "execution_count": 20,
   "metadata": {},
   "outputs": [
    {
     "name": "stdout",
     "output_type": "stream",
     "text": [
      "(52270, 6572)\n",
      "['control']\n",
      "Categories (21, object): ['A1_r1', 'A1_r2', 'A1_r3', 'A10_r1', ..., 'control', 'mGFP', 'mRFP', 'mTmG']\n"
     ]
    }
   ],
   "source": [
    "# Remove non-healthy query as it is not sure whether it should integrate or not - \n",
    "# e.g. expected to be different\n",
    "adata=adata[~((adata.obs.study=='STZ').values & (adata.obs.design!='control').values),:]\n",
    "print(adata.shape)\n",
    "print(adata.obs.query('study==\"STZ\"').design.unique())"
   ]
  },
  {
   "cell_type": "markdown",
   "metadata": {},
   "source": [
    "Normalise"
   ]
  },
  {
   "cell_type": "code",
   "execution_count": 21,
   "metadata": {},
   "outputs": [],
   "source": [
    "# Normalised data\n",
    "adata_norm=adata.copy()\n",
    "sc.pp.normalize_total(adata_norm, target_sum=1e6, exclude_highly_expressed=True)\n",
    "sc.pp.log1p(adata_norm)"
   ]
  },
  {
   "cell_type": "markdown",
   "metadata": {},
   "source": [
    "Add integrated embeddings"
   ]
  },
  {
   "cell_type": "code",
   "execution_count": 22,
   "metadata": {},
   "outputs": [],
   "source": [
    "# Integrated embeddings from Sergey's data\n",
    "adata_int=sc.read(\n",
    "    '/storage/groups/ml01/workspace/sergei.rybakov/adata_integration_RefQueryTraining.h5ad')\n",
    "for emb in ['X_scvi','X_seurat','X_symphony']:\n",
    "    adata_norm.obsm[emb]=adata_int[adata_norm.obs_names,:].obsm[emb]"
   ]
  },
  {
   "cell_type": "code",
   "execution_count": 23,
   "metadata": {},
   "outputs": [],
   "source": [
    "# Integrated embedding from qtr\n",
    "adata_norm.obsm['X_qtr']=pd.read_table(path_data+'latent_refqueryTraining'+params+'.tsv',\n",
    "                                       index_col=0\n",
    "                                      ).loc[adata_norm.obs_names,:].values"
   ]
  },
  {
   "cell_type": "code",
   "execution_count": 24,
   "metadata": {},
   "outputs": [
    {
     "data": {
      "text/plain": [
       "AnnData object with n_obs × n_vars = 52270 × 6572\n",
       "    obs: 'leiden_r1_normscl', 'design', 'age', 'sex', 'sample', 'n_counts', 'n_genes', 'mt_frac', 'study', 'study_sample', 'cell_type', 'ref_query'\n",
       "    var: 'gene_symbol'\n",
       "    uns: 'log1p'\n",
       "    obsm: 'X_umap_normscl', 'X_scvi', 'X_seurat', 'X_symphony', 'X_qtr'"
      ]
     },
     "execution_count": 24,
     "metadata": {},
     "output_type": "execute_result"
    }
   ],
   "source": [
    "adata_norm"
   ]
  },
  {
   "cell_type": "markdown",
   "metadata": {},
   "source": [
    "Save"
   ]
  },
  {
   "cell_type": "code",
   "execution_count": 25,
   "metadata": {},
   "outputs": [],
   "source": [
    "# Save for scIB\n",
    "adata_norm.write(path_data+'adata_norm_integrated_forScib'+params+'.h5ad')"
   ]
  },
  {
   "cell_type": "code",
   "execution_count": 2,
   "metadata": {},
   "outputs": [
    {
     "data": {
      "text/plain": [
       "'/storage/groups/ml01/workspace/karin.hrovatin/data/pancreas/scRNA/qtr/integrated/gsCellType_query/querySTZ_rmNodElimination/mo/adata_norm_integrated_forScib_a_p0.0r1.0-akl_0.1-aklq_0.1-ra_0-uh_0-b_study_sample-sd_False-dp_0.01-lr_0.001-hls_830.830.830-es_1-nh_10000-ne_500-dll_softplus-ule_False-mg_200-mig_3-aea_100-aeaq_None-wd_0.0.h5ad'"
      ]
     },
     "execution_count": 2,
     "metadata": {},
     "output_type": "execute_result"
    }
   ],
   "source": [
    "path_data+'adata_norm_integrated_forScib'+params+'.h5ad'"
   ]
  }
 ],
 "metadata": {
  "kernelspec": {
   "display_name": "Python rpy2_3",
   "language": "python",
   "name": "rpy2_3"
  },
  "language_info": {
   "codemirror_mode": {
    "name": "ipython",
    "version": 3
   },
   "file_extension": ".py",
   "mimetype": "text/x-python",
   "name": "python",
   "nbconvert_exporter": "python",
   "pygments_lexer": "ipython3",
   "version": "3.8.5"
  }
 },
 "nbformat": 4,
 "nbformat_minor": 4
}
