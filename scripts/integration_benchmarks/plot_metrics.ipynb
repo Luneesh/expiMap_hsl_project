{
 "cells": [
  {
   "cell_type": "markdown",
   "metadata": {},
   "source": [
    "# scIB score plots\n",
    "Compare scIB scores across integration methods and datasets."
   ]
  },
  {
   "cell_type": "code",
   "execution_count": 52,
   "metadata": {},
   "outputs": [],
   "source": [
    "import pandas as pd\n",
    "import numpy as np\n",
    "\n",
    "from sklearn.preprocessing import minmax_scale\n",
    "\n",
    "import matplotlib.pyplot as plt\n",
    "from matplotlib import rcParams\n",
    "import seaborn as sb"
   ]
  },
  {
   "cell_type": "code",
   "execution_count": 3,
   "metadata": {},
   "outputs": [],
   "source": [
    "BIO=['graph_cLISI','NMI','ARI','ASW_cell_type']\n",
    "BATCH=['PC_regression','ASW_batch','kBET','graph_connectivity','graph_iLISI']"
   ]
  },
  {
   "cell_type": "markdown",
   "metadata": {},
   "source": [
    "#### Load data"
   ]
  },
  {
   "cell_type": "code",
   "execution_count": 28,
   "metadata": {},
   "outputs": [],
   "source": [
    "# Mock data\n",
    "data=pd.DataFrame(np.random.randint(0,10,(4,len(BIO)+len(BATCH))),columns=BIO+BATCH)\n",
    "data['dataset']=['d1','d1','d2','d2']\n",
    "data['method']=['m1','m2','m1','m2']"
   ]
  },
  {
   "cell_type": "code",
   "execution_count": 15,
   "metadata": {},
   "outputs": [
    {
     "data": {
      "text/html": [
       "<div>\n",
       "<style scoped>\n",
       "    .dataframe tbody tr th:only-of-type {\n",
       "        vertical-align: middle;\n",
       "    }\n",
       "\n",
       "    .dataframe tbody tr th {\n",
       "        vertical-align: top;\n",
       "    }\n",
       "\n",
       "    .dataframe thead th {\n",
       "        text-align: right;\n",
       "    }\n",
       "</style>\n",
       "<table border=\"1\" class=\"dataframe\">\n",
       "  <thead>\n",
       "    <tr style=\"text-align: right;\">\n",
       "      <th></th>\n",
       "      <th>graph_cLISI</th>\n",
       "      <th>NMI</th>\n",
       "      <th>ARI</th>\n",
       "      <th>ASW_cell_type</th>\n",
       "      <th>PC_regression</th>\n",
       "      <th>ASW_batch</th>\n",
       "      <th>kBET</th>\n",
       "      <th>graph_connectivity</th>\n",
       "      <th>graph_iLISI</th>\n",
       "      <th>dataset</th>\n",
       "      <th>method</th>\n",
       "    </tr>\n",
       "  </thead>\n",
       "  <tbody>\n",
       "    <tr>\n",
       "      <th>0</th>\n",
       "      <td>4</td>\n",
       "      <td>1</td>\n",
       "      <td>2</td>\n",
       "      <td>1</td>\n",
       "      <td>2</td>\n",
       "      <td>7</td>\n",
       "      <td>9</td>\n",
       "      <td>7</td>\n",
       "      <td>0</td>\n",
       "      <td>d1</td>\n",
       "      <td>m1</td>\n",
       "    </tr>\n",
       "    <tr>\n",
       "      <th>1</th>\n",
       "      <td>6</td>\n",
       "      <td>1</td>\n",
       "      <td>6</td>\n",
       "      <td>5</td>\n",
       "      <td>1</td>\n",
       "      <td>8</td>\n",
       "      <td>0</td>\n",
       "      <td>5</td>\n",
       "      <td>1</td>\n",
       "      <td>d1</td>\n",
       "      <td>m2</td>\n",
       "    </tr>\n",
       "    <tr>\n",
       "      <th>2</th>\n",
       "      <td>9</td>\n",
       "      <td>4</td>\n",
       "      <td>2</td>\n",
       "      <td>4</td>\n",
       "      <td>4</td>\n",
       "      <td>1</td>\n",
       "      <td>3</td>\n",
       "      <td>2</td>\n",
       "      <td>5</td>\n",
       "      <td>d2</td>\n",
       "      <td>m1</td>\n",
       "    </tr>\n",
       "    <tr>\n",
       "      <th>3</th>\n",
       "      <td>8</td>\n",
       "      <td>1</td>\n",
       "      <td>8</td>\n",
       "      <td>2</td>\n",
       "      <td>8</td>\n",
       "      <td>3</td>\n",
       "      <td>9</td>\n",
       "      <td>0</td>\n",
       "      <td>8</td>\n",
       "      <td>d2</td>\n",
       "      <td>m2</td>\n",
       "    </tr>\n",
       "  </tbody>\n",
       "</table>\n",
       "</div>"
      ],
      "text/plain": [
       "   graph_cLISI  NMI  ARI  ASW_cell_type  PC_regression  ASW_batch  kBET  \\\n",
       "0            4    1    2              1              2          7     9   \n",
       "1            6    1    6              5              1          8     0   \n",
       "2            9    4    2              4              4          1     3   \n",
       "3            8    1    8              2              8          3     9   \n",
       "\n",
       "   graph_connectivity  graph_iLISI dataset method  \n",
       "0                   7            0      d1     m1  \n",
       "1                   5            1      d1     m2  \n",
       "2                   2            5      d2     m1  \n",
       "3                   0            8      d2     m2  "
      ]
     },
     "metadata": {},
     "output_type": "display_data"
    }
   ],
   "source": [
    "display(data)"
   ]
  },
  {
   "cell_type": "markdown",
   "metadata": {},
   "source": [
    "#### All scores\n",
    "Plots of scores, as computed by scIB, across datasets and methods."
   ]
  },
  {
   "cell_type": "code",
   "execution_count": 48,
   "metadata": {
    "scrolled": true
   },
   "outputs": [
    {
     "data": {
      "image/png": "[encoded data removed]",
      "text/plain": [
       "<Figure size 432x864 with 4 Axes>"
      ]
     },
     "metadata": {
      "needs_background": "light"
     },
     "output_type": "display_data"
    },
    {
     "data": {
      "image/png": "[encoded data removed]",
      "text/plain": [
       "<Figure size 432x1080 with 5 Axes>"
      ]
     },
     "metadata": {
      "needs_background": "light"
     },
     "output_type": "display_data"
    }
   ],
   "source": [
    "# Score values across datasets and methods\n",
    "for name,metrics in {'bio':BIO,'batch':BATCH}.items():\n",
    "    ncol=1\n",
    "    nrow=len(metrics)\n",
    "    fig,ax=plt.subplots(nrow,ncol,figsize=(6*ncol,3*nrow),sharex=True)\n",
    "    for idx,metric in enumerate(metrics):\n",
    "        sb.barplot(x='dataset',y=metric,hue='method',data=data,ax=ax[idx])\n",
    "        if idx!=0:\n",
    "            ax[idx].legend_.remove()\n",
    "        else:\n",
    "             ax[idx].legend(bbox_to_anchor=(1.1, 1))\n",
    "    ax[0].set_title(name)\n",
    "    plt.subplots_adjust(wspace=0, hspace=0)"
   ]
  },
  {
   "cell_type": "markdown",
   "metadata": {},
   "source": [
    "#### Summarised scores\n",
    "Prepare summary scores.\n",
    "Scores are min-max normalised across all evaluations or within each dataset. Mean is computed for bio and batch scores and the overall scores is a weighetd average of bio and batch score."
   ]
  },
  {
   "cell_type": "markdown",
   "metadata": {},
   "source": [
    "##### Normalise across all scores"
   ]
  },
  {
   "cell_type": "code",
   "execution_count": 54,
   "metadata": {},
   "outputs": [],
   "source": [
    "# Min-Max normalise scores\n",
    "data_norm=data.copy()\n",
    "for metric in BIO+BATCH:\n",
    "    data_norm[metric]=minmax_scale(data[metric].values.reshape(-1,1))"
   ]
  },
  {
   "cell_type": "code",
   "execution_count": 61,
   "metadata": {},
   "outputs": [],
   "source": [
    "# Compute summary metrics\n",
    "data_norm['bio']=data_norm[BIO].mean(axis=1)\n",
    "data_norm['batch']=data_norm[BATCH].mean(axis=1)\n",
    "data_norm['overall']=data_norm['bio']*0.6+data_norm['batch']*0.4"
   ]
  },
  {
   "cell_type": "code",
   "execution_count": 62,
   "metadata": {},
   "outputs": [
    {
     "data": {
      "text/html": [
       "<div>\n",
       "<style scoped>\n",
       "    .dataframe tbody tr th:only-of-type {\n",
       "        vertical-align: middle;\n",
       "    }\n",
       "\n",
       "    .dataframe tbody tr th {\n",
       "        vertical-align: top;\n",
       "    }\n",
       "\n",
       "    .dataframe thead th {\n",
       "        text-align: right;\n",
       "    }\n",
       "</style>\n",
       "<table border=\"1\" class=\"dataframe\">\n",
       "  <thead>\n",
       "    <tr style=\"text-align: right;\">\n",
       "      <th></th>\n",
       "      <th>graph_cLISI</th>\n",
       "      <th>NMI</th>\n",
       "      <th>ARI</th>\n",
       "      <th>ASW_cell_type</th>\n",
       "      <th>PC_regression</th>\n",
       "      <th>ASW_batch</th>\n",
       "      <th>kBET</th>\n",
       "      <th>graph_connectivity</th>\n",
       "      <th>graph_iLISI</th>\n",
       "      <th>dataset</th>\n",
       "      <th>method</th>\n",
       "      <th>bio</th>\n",
       "      <th>batch</th>\n",
       "      <th>overall</th>\n",
       "    </tr>\n",
       "  </thead>\n",
       "  <tbody>\n",
       "    <tr>\n",
       "      <th>0</th>\n",
       "      <td>0.2</td>\n",
       "      <td>0.666667</td>\n",
       "      <td>0.4</td>\n",
       "      <td>0.00</td>\n",
       "      <td>0.0</td>\n",
       "      <td>0.75</td>\n",
       "      <td>0.000000</td>\n",
       "      <td>1.00</td>\n",
       "      <td>0.142857</td>\n",
       "      <td>d1</td>\n",
       "      <td>m1</td>\n",
       "      <td>0.316667</td>\n",
       "      <td>0.378571</td>\n",
       "      <td>0.341429</td>\n",
       "    </tr>\n",
       "    <tr>\n",
       "      <th>1</th>\n",
       "      <td>0.6</td>\n",
       "      <td>1.000000</td>\n",
       "      <td>1.0</td>\n",
       "      <td>0.25</td>\n",
       "      <td>0.5</td>\n",
       "      <td>0.75</td>\n",
       "      <td>0.555556</td>\n",
       "      <td>0.50</td>\n",
       "      <td>1.000000</td>\n",
       "      <td>d1</td>\n",
       "      <td>m2</td>\n",
       "      <td>0.712500</td>\n",
       "      <td>0.661111</td>\n",
       "      <td>0.691944</td>\n",
       "    </tr>\n",
       "    <tr>\n",
       "      <th>2</th>\n",
       "      <td>0.0</td>\n",
       "      <td>0.000000</td>\n",
       "      <td>1.0</td>\n",
       "      <td>1.00</td>\n",
       "      <td>0.5</td>\n",
       "      <td>0.00</td>\n",
       "      <td>1.000000</td>\n",
       "      <td>0.00</td>\n",
       "      <td>0.714286</td>\n",
       "      <td>d2</td>\n",
       "      <td>m1</td>\n",
       "      <td>0.500000</td>\n",
       "      <td>0.442857</td>\n",
       "      <td>0.477143</td>\n",
       "    </tr>\n",
       "    <tr>\n",
       "      <th>3</th>\n",
       "      <td>1.0</td>\n",
       "      <td>0.000000</td>\n",
       "      <td>0.0</td>\n",
       "      <td>0.75</td>\n",
       "      <td>1.0</td>\n",
       "      <td>1.00</td>\n",
       "      <td>0.555556</td>\n",
       "      <td>0.25</td>\n",
       "      <td>0.000000</td>\n",
       "      <td>d2</td>\n",
       "      <td>m2</td>\n",
       "      <td>0.437500</td>\n",
       "      <td>0.561111</td>\n",
       "      <td>0.486944</td>\n",
       "    </tr>\n",
       "  </tbody>\n",
       "</table>\n",
       "</div>"
      ],
      "text/plain": [
       "   graph_cLISI       NMI  ARI  ASW_cell_type  PC_regression  ASW_batch  \\\n",
       "0          0.2  0.666667  0.4           0.00            0.0       0.75   \n",
       "1          0.6  1.000000  1.0           0.25            0.5       0.75   \n",
       "2          0.0  0.000000  1.0           1.00            0.5       0.00   \n",
       "3          1.0  0.000000  0.0           0.75            1.0       1.00   \n",
       "\n",
       "       kBET  graph_connectivity  graph_iLISI dataset method       bio  \\\n",
       "0  0.000000                1.00     0.142857      d1     m1  0.316667   \n",
       "1  0.555556                0.50     1.000000      d1     m2  0.712500   \n",
       "2  1.000000                0.00     0.714286      d2     m1  0.500000   \n",
       "3  0.555556                0.25     0.000000      d2     m2  0.437500   \n",
       "\n",
       "      batch   overall  \n",
       "0  0.378571  0.341429  \n",
       "1  0.661111  0.691944  \n",
       "2  0.442857  0.477143  \n",
       "3  0.561111  0.486944  "
      ]
     },
     "execution_count": 62,
     "metadata": {},
     "output_type": "execute_result"
    }
   ],
   "source": [
    "data_norm"
   ]
  },
  {
   "cell_type": "code",
   "execution_count": 71,
   "metadata": {},
   "outputs": [
    {
     "data": {
      "image/png": "[encoded data removed]",
      "text/plain": [
       "<Figure size 432x216 with 1 Axes>"
      ]
     },
     "metadata": {
      "needs_background": "light"
     },
     "output_type": "display_data"
    },
    {
     "data": {
      "image/png": "[encoded data removed]",
      "text/plain": [
       "<Figure size 432x216 with 1 Axes>"
      ]
     },
     "metadata": {
      "needs_background": "light"
     },
     "output_type": "display_data"
    },
    {
     "data": {
      "image/png": "[encoded data removed]",
      "text/plain": [
       "<Figure size 432x216 with 1 Axes>"
      ]
     },
     "metadata": {
      "needs_background": "light"
     },
     "output_type": "display_data"
    }
   ],
   "source": [
    "for summary in ['bio','batch','overall']:\n",
    "    fig,ax=plt.subplots(figsize=(6,3))\n",
    "    sb.barplot(x='dataset',y=summary,hue='method',data=data_norm,ax=ax)\n",
    "    ax.legend(bbox_to_anchor=(1.3, 1))"
   ]
  },
  {
   "cell_type": "markdown",
   "metadata": {},
   "source": [
    "##### Normalise within dataset"
   ]
  },
  {
   "cell_type": "code",
   "execution_count": 74,
   "metadata": {},
   "outputs": [],
   "source": [
    "# Min-Max normalise scores within dataset\n",
    "data_norm_group=data.copy()\n",
    "for metric in BIO+BATCH:\n",
    "    for dataset in data.dataset.unique():\n",
    "        rows=data_norm_group.index[data_norm_group.dataset==dataset]\n",
    "        data_norm_group.loc[rows,metric]=minmax_scale(data.loc[rows,metric].values.reshape(-1,1))"
   ]
  },
  {
   "cell_type": "code",
   "execution_count": 78,
   "metadata": {},
   "outputs": [],
   "source": [
    "# Compute summary metrics\n",
    "data_norm_group['bio']=data_norm_group[BIO].mean(axis=1)\n",
    "data_norm_group['batch']=data_norm_group[BATCH].mean(axis=1)\n",
    "data_norm_group['overall']=data_norm_group['bio']*0.6+data_norm_group['batch']*0.4"
   ]
  },
  {
   "cell_type": "code",
   "execution_count": 79,
   "metadata": {},
   "outputs": [
    {
     "data": {
      "text/html": [
       "<div>\n",
       "<style scoped>\n",
       "    .dataframe tbody tr th:only-of-type {\n",
       "        vertical-align: middle;\n",
       "    }\n",
       "\n",
       "    .dataframe tbody tr th {\n",
       "        vertical-align: top;\n",
       "    }\n",
       "\n",
       "    .dataframe thead th {\n",
       "        text-align: right;\n",
       "    }\n",
       "</style>\n",
       "<table border=\"1\" class=\"dataframe\">\n",
       "  <thead>\n",
       "    <tr style=\"text-align: right;\">\n",
       "      <th></th>\n",
       "      <th>graph_cLISI</th>\n",
       "      <th>NMI</th>\n",
       "      <th>ARI</th>\n",
       "      <th>ASW_cell_type</th>\n",
       "      <th>PC_regression</th>\n",
       "      <th>ASW_batch</th>\n",
       "      <th>kBET</th>\n",
       "      <th>graph_connectivity</th>\n",
       "      <th>graph_iLISI</th>\n",
       "      <th>dataset</th>\n",
       "      <th>method</th>\n",
       "      <th>bio</th>\n",
       "      <th>batch</th>\n",
       "      <th>overall</th>\n",
       "    </tr>\n",
       "  </thead>\n",
       "  <tbody>\n",
       "    <tr>\n",
       "      <th>0</th>\n",
       "      <td>0.0</td>\n",
       "      <td>0.0</td>\n",
       "      <td>0.0</td>\n",
       "      <td>0.0</td>\n",
       "      <td>0.0</td>\n",
       "      <td>0.0</td>\n",
       "      <td>0.0</td>\n",
       "      <td>1.0</td>\n",
       "      <td>0.0</td>\n",
       "      <td>d1</td>\n",
       "      <td>m1</td>\n",
       "      <td>0.00</td>\n",
       "      <td>0.2</td>\n",
       "      <td>0.08</td>\n",
       "    </tr>\n",
       "    <tr>\n",
       "      <th>1</th>\n",
       "      <td>1.0</td>\n",
       "      <td>1.0</td>\n",
       "      <td>1.0</td>\n",
       "      <td>1.0</td>\n",
       "      <td>1.0</td>\n",
       "      <td>0.0</td>\n",
       "      <td>1.0</td>\n",
       "      <td>0.0</td>\n",
       "      <td>1.0</td>\n",
       "      <td>d1</td>\n",
       "      <td>m2</td>\n",
       "      <td>1.00</td>\n",
       "      <td>0.6</td>\n",
       "      <td>0.84</td>\n",
       "    </tr>\n",
       "    <tr>\n",
       "      <th>2</th>\n",
       "      <td>0.0</td>\n",
       "      <td>0.0</td>\n",
       "      <td>1.0</td>\n",
       "      <td>1.0</td>\n",
       "      <td>0.0</td>\n",
       "      <td>0.0</td>\n",
       "      <td>1.0</td>\n",
       "      <td>0.0</td>\n",
       "      <td>1.0</td>\n",
       "      <td>d2</td>\n",
       "      <td>m1</td>\n",
       "      <td>0.50</td>\n",
       "      <td>0.4</td>\n",
       "      <td>0.46</td>\n",
       "    </tr>\n",
       "    <tr>\n",
       "      <th>3</th>\n",
       "      <td>1.0</td>\n",
       "      <td>0.0</td>\n",
       "      <td>0.0</td>\n",
       "      <td>0.0</td>\n",
       "      <td>1.0</td>\n",
       "      <td>1.0</td>\n",
       "      <td>0.0</td>\n",
       "      <td>1.0</td>\n",
       "      <td>0.0</td>\n",
       "      <td>d2</td>\n",
       "      <td>m2</td>\n",
       "      <td>0.25</td>\n",
       "      <td>0.6</td>\n",
       "      <td>0.39</td>\n",
       "    </tr>\n",
       "  </tbody>\n",
       "</table>\n",
       "</div>"
      ],
      "text/plain": [
       "   graph_cLISI  NMI  ARI  ASW_cell_type  PC_regression  ASW_batch  kBET  \\\n",
       "0          0.0  0.0  0.0            0.0            0.0        0.0   0.0   \n",
       "1          1.0  1.0  1.0            1.0            1.0        0.0   1.0   \n",
       "2          0.0  0.0  1.0            1.0            0.0        0.0   1.0   \n",
       "3          1.0  0.0  0.0            0.0            1.0        1.0   0.0   \n",
       "\n",
       "   graph_connectivity  graph_iLISI dataset method   bio  batch  overall  \n",
       "0                 1.0          0.0      d1     m1  0.00    0.2     0.08  \n",
       "1                 0.0          1.0      d1     m2  1.00    0.6     0.84  \n",
       "2                 0.0          1.0      d2     m1  0.50    0.4     0.46  \n",
       "3                 1.0          0.0      d2     m2  0.25    0.6     0.39  "
      ]
     },
     "execution_count": 79,
     "metadata": {},
     "output_type": "execute_result"
    }
   ],
   "source": [
    "data_norm_group"
   ]
  },
  {
   "cell_type": "code",
   "execution_count": 80,
   "metadata": {},
   "outputs": [
    {
     "data": {
      "image/png": "[encoded data removed]",
      "text/plain": [
       "<Figure size 432x216 with 1 Axes>"
      ]
     },
     "metadata": {
      "needs_background": "light"
     },
     "output_type": "display_data"
    },
    {
     "data": {
      "image/png": "[encoded data removed]",
      "text/plain": [
       "<Figure size 432x216 with 1 Axes>"
      ]
     },
     "metadata": {
      "needs_background": "light"
     },
     "output_type": "display_data"
    },
    {
     "data": {
      "image/png": "[encoded data removed]",
      "text/plain": [
       "<Figure size 432x216 with 1 Axes>"
      ]
     },
     "metadata": {
      "needs_background": "light"
     },
     "output_type": "display_data"
    }
   ],
   "source": [
    "for summary in ['bio','batch','overall']:\n",
    "    fig,ax=plt.subplots(figsize=(6,3))\n",
    "    sb.barplot(x='dataset',y=summary,hue='method',data=data_norm_group,ax=ax)\n",
    "    ax.legend(bbox_to_anchor=(1.3, 1))"
   ]
  },
  {
   "cell_type": "code",
   "execution_count": null,
   "metadata": {},
   "outputs": [],
   "source": []
  }
 ],
 "metadata": {
  "kernelspec": {
   "display_name": "qtr",
   "language": "python",
   "name": "qtr"
  },
  "language_info": {
   "codemirror_mode": {
    "name": "ipython",
    "version": 3
   },
   "file_extension": ".py",
   "mimetype": "text/x-python",
   "name": "python",
   "nbconvert_exporter": "python",
   "pygments_lexer": "ipython3",
   "version": "3.8.0"
  }
 },
 "nbformat": 4,
 "nbformat_minor": 4
}
